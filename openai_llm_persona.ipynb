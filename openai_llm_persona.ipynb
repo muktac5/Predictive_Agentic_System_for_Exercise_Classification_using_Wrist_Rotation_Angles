{
 "cells": [
  {
   "cell_type": "code",
   "outputs": [],
   "source": [
    "import torch\n",
    "import os\n",
    "from dotenv import load_dotenv\n",
    "from openai import OpenAI\n",
    "import numpy as np\n",
    "import pandas as pd\n",
    "from sklearn.preprocessing import OneHotEncoder, LabelEncoder\n",
    "from tensorflow.keras.models import load_model\n",
    "import requests\n",
    "from sklearn.metrics.pairwise import cosine_similarity\n",
    "import transformers\n",
    "from transformers import AutoTokenizer, AutoModelForCausalLM, pipeline, AutoModelForSeq2SeqLM, AutoModel"
   ],
   "metadata": {
    "collapsed": false,
    "ExecuteTime": {
     "end_time": "2024-08-05T14:21:22.569230Z",
     "start_time": "2024-08-05T14:21:16.396361Z"
    }
   },
   "id": "f55bb522586aa978",
   "execution_count": 1
  },
  {
   "cell_type": "code",
   "outputs": [
    {
     "data": {
      "text/plain": "True"
     },
     "execution_count": 2,
     "metadata": {},
     "output_type": "execute_result"
    }
   ],
   "source": [
    "load_dotenv()"
   ],
   "metadata": {
    "collapsed": false,
    "ExecuteTime": {
     "end_time": "2024-08-05T14:21:22.576846Z",
     "start_time": "2024-08-05T14:21:22.571333Z"
    }
   },
   "id": "ea1b78dfb6ff3f02",
   "execution_count": 2
  },
  {
   "cell_type": "code",
   "outputs": [],
   "source": [
    "model = load_model('LSTM_euler_temporal_dynamics')"
   ],
   "metadata": {
    "collapsed": false,
    "ExecuteTime": {
     "end_time": "2024-08-05T14:21:26.308302Z",
     "start_time": "2024-08-05T14:21:22.578130Z"
    }
   },
   "id": "2ead6ce01b64892b",
   "execution_count": 3
  },
  {
   "cell_type": "code",
   "outputs": [],
   "source": [
    "sample_input_sequence=np.array([[-9.28317111e-01, -9.26705018e-01, -1.33821092e+00,\n",
    "         1.59151996e-01, -9.80534562e-01,  1.13180968e+00,\n",
    "        -8.14734264e-01, -1.29092260e-02, -1.01997518e+00,\n",
    "         2.10817179e+00,  2.12091685e-02, -1.51470508e-03,\n",
    "        -4.27905404e-02,  1.15207013e+00,  1.26888526e+00,\n",
    "        -6.85882976e-01, -1.34530801e-01, -2.87846841e-02,\n",
    "        -8.30967007e-01,  2.60652480e+00, -2.04741732e-01,\n",
    "        -1.45619779e-03]])"
   ],
   "metadata": {
    "collapsed": false,
    "ExecuteTime": {
     "end_time": "2024-08-05T14:21:26.312199Z",
     "start_time": "2024-08-05T14:21:26.309956Z"
    }
   },
   "id": "79b085f090e6a624",
   "execution_count": 4
  },
  {
   "cell_type": "code",
   "outputs": [],
   "source": [
    "sample_sequence = np.expand_dims(sample_input_sequence, axis=1)"
   ],
   "metadata": {
    "collapsed": false,
    "ExecuteTime": {
     "end_time": "2024-08-05T14:21:26.314987Z",
     "start_time": "2024-08-05T14:21:26.312777Z"
    }
   },
   "id": "3f035daa881f6d76",
   "execution_count": 5
  },
  {
   "cell_type": "code",
   "outputs": [
    {
     "name": "stdout",
     "output_type": "stream",
     "text": [
      "1/1 [==============================] - 0s 354ms/step\n"
     ]
    }
   ],
   "source": [
    "predictions = model.predict(sample_sequence)"
   ],
   "metadata": {
    "collapsed": false,
    "ExecuteTime": {
     "end_time": "2024-08-05T14:21:26.692819Z",
     "start_time": "2024-08-05T14:21:26.315424Z"
    }
   },
   "id": "e0d8e06dc87d33d4",
   "execution_count": 6
  },
  {
   "cell_type": "code",
   "outputs": [],
   "source": [
    "categorical_features = ['armraise', 'tricepkickback', 'overheadpress', 'bicepcurl',\n",
    "                        'hammercurl', 'burpee', 'vup', 'crunch', 'pushup', 'birddog'] \n",
    "categories_array = np.array(categorical_features).reshape(-1, 1)\n",
    "encoder = OneHotEncoder(sparse_output=False)\n",
    "target_encoded = encoder.fit_transform(categories_array)"
   ],
   "metadata": {
    "collapsed": false,
    "ExecuteTime": {
     "end_time": "2024-08-05T14:21:26.696213Z",
     "start_time": "2024-08-05T14:21:26.693387Z"
    }
   },
   "id": "1d2c64074bc52839",
   "execution_count": 7
  },
  {
   "cell_type": "code",
   "outputs": [],
   "source": [
    "predicted_indices = np.argmax(predictions, axis=1)\n",
    "predicted_one_hot = np.zeros((predicted_indices.size, predictions.shape[1]))\n",
    "predicted_one_hot[np.arange(predicted_indices.size), predicted_indices] = 1\n",
    "\n",
    "predicted_labels = encoder.inverse_transform(predicted_one_hot)"
   ],
   "metadata": {
    "collapsed": false,
    "ExecuteTime": {
     "end_time": "2024-08-05T14:21:26.698892Z",
     "start_time": "2024-08-05T14:21:26.696804Z"
    }
   },
   "id": "d3669c49f53764e4",
   "execution_count": 8
  },
  {
   "cell_type": "code",
   "outputs": [],
   "source": [
    "predicted_user_exercise=predicted_labels[0][0]"
   ],
   "metadata": {
    "collapsed": false,
    "ExecuteTime": {
     "end_time": "2024-08-05T14:21:26.701025Z",
     "start_time": "2024-08-05T14:21:26.699540Z"
    }
   },
   "id": "6835892a25894eb",
   "execution_count": 9
  },
  {
   "cell_type": "markdown",
   "source": [
    "RAG setup"
   ],
   "metadata": {
    "collapsed": false
   },
   "id": "d04206e141f40e53"
  },
  {
   "cell_type": "code",
   "outputs": [],
   "source": [
    "df = pd.read_csv('megaGymDataset.csv')"
   ],
   "metadata": {
    "collapsed": true,
    "ExecuteTime": {
     "end_time": "2024-08-05T14:21:26.714066Z",
     "start_time": "2024-08-05T14:21:26.702664Z"
    }
   },
   "id": "initial_id",
   "execution_count": 10
  },
  {
   "cell_type": "code",
   "outputs": [
    {
     "data": {
      "text/plain": "   Unnamed: 0                         Title  \\\n0           0        Partner plank band row   \n1           1  Banded crunch isometric hold   \n2           2         FYR Banded Plank Jack   \n3           3                 Banded crunch   \n4           4                        Crunch   \n\n                                                Desc      Type    BodyPart  \\\n0  The partner plank band row is an abdominal exe...  Strength  Abdominals   \n1  The banded crunch isometric hold is an exercis...  Strength  Abdominals   \n2  The banded plank jack is a variation on the pl...  Strength  Abdominals   \n3  The banded crunch is an exercise targeting the...  Strength  Abdominals   \n4  The crunch is a popular core exercise targetin...  Strength  Abdominals   \n\n  Equipment         Level  Rating RatingDesc  \n0     Bands  Intermediate     0.0        NaN  \n1     Bands  Intermediate     NaN        NaN  \n2     Bands  Intermediate     NaN        NaN  \n3     Bands  Intermediate     NaN        NaN  \n4     Bands  Intermediate     NaN        NaN  ",
      "text/html": "<div>\n<style scoped>\n    .dataframe tbody tr th:only-of-type {\n        vertical-align: middle;\n    }\n\n    .dataframe tbody tr th {\n        vertical-align: top;\n    }\n\n    .dataframe thead th {\n        text-align: right;\n    }\n</style>\n<table border=\"1\" class=\"dataframe\">\n  <thead>\n    <tr style=\"text-align: right;\">\n      <th></th>\n      <th>Unnamed: 0</th>\n      <th>Title</th>\n      <th>Desc</th>\n      <th>Type</th>\n      <th>BodyPart</th>\n      <th>Equipment</th>\n      <th>Level</th>\n      <th>Rating</th>\n      <th>RatingDesc</th>\n    </tr>\n  </thead>\n  <tbody>\n    <tr>\n      <th>0</th>\n      <td>0</td>\n      <td>Partner plank band row</td>\n      <td>The partner plank band row is an abdominal exe...</td>\n      <td>Strength</td>\n      <td>Abdominals</td>\n      <td>Bands</td>\n      <td>Intermediate</td>\n      <td>0.0</td>\n      <td>NaN</td>\n    </tr>\n    <tr>\n      <th>1</th>\n      <td>1</td>\n      <td>Banded crunch isometric hold</td>\n      <td>The banded crunch isometric hold is an exercis...</td>\n      <td>Strength</td>\n      <td>Abdominals</td>\n      <td>Bands</td>\n      <td>Intermediate</td>\n      <td>NaN</td>\n      <td>NaN</td>\n    </tr>\n    <tr>\n      <th>2</th>\n      <td>2</td>\n      <td>FYR Banded Plank Jack</td>\n      <td>The banded plank jack is a variation on the pl...</td>\n      <td>Strength</td>\n      <td>Abdominals</td>\n      <td>Bands</td>\n      <td>Intermediate</td>\n      <td>NaN</td>\n      <td>NaN</td>\n    </tr>\n    <tr>\n      <th>3</th>\n      <td>3</td>\n      <td>Banded crunch</td>\n      <td>The banded crunch is an exercise targeting the...</td>\n      <td>Strength</td>\n      <td>Abdominals</td>\n      <td>Bands</td>\n      <td>Intermediate</td>\n      <td>NaN</td>\n      <td>NaN</td>\n    </tr>\n    <tr>\n      <th>4</th>\n      <td>4</td>\n      <td>Crunch</td>\n      <td>The crunch is a popular core exercise targetin...</td>\n      <td>Strength</td>\n      <td>Abdominals</td>\n      <td>Bands</td>\n      <td>Intermediate</td>\n      <td>NaN</td>\n      <td>NaN</td>\n    </tr>\n  </tbody>\n</table>\n</div>"
     },
     "execution_count": 11,
     "metadata": {},
     "output_type": "execute_result"
    }
   ],
   "source": [
    "df.head()"
   ],
   "metadata": {
    "collapsed": false,
    "ExecuteTime": {
     "end_time": "2024-08-05T14:21:26.720802Z",
     "start_time": "2024-08-05T14:21:26.714614Z"
    }
   },
   "id": "eb660464985cdaa5",
   "execution_count": 11
  },
  {
   "cell_type": "code",
   "outputs": [
    {
     "data": {
      "text/plain": "Unnamed: 0       0\nTitle            0\nDesc          1550\nType             0\nBodyPart         0\nEquipment        0\nLevel            0\nRating        1887\nRatingDesc    2056\ndtype: int64"
     },
     "execution_count": 12,
     "metadata": {},
     "output_type": "execute_result"
    }
   ],
   "source": [
    "df.isnull().sum() "
   ],
   "metadata": {
    "collapsed": false,
    "ExecuteTime": {
     "end_time": "2024-08-05T14:21:26.725378Z",
     "start_time": "2024-08-05T14:21:26.721271Z"
    }
   },
   "id": "84d5afb1b98eb4de",
   "execution_count": 12
  },
  {
   "cell_type": "code",
   "outputs": [],
   "source": [
    "df = df.dropna(subset=['Desc'])"
   ],
   "metadata": {
    "collapsed": false,
    "ExecuteTime": {
     "end_time": "2024-08-05T14:21:26.729354Z",
     "start_time": "2024-08-05T14:21:26.725862Z"
    }
   },
   "id": "952f302881c66ec4",
   "execution_count": 13
  },
  {
   "cell_type": "code",
   "outputs": [],
   "source": [
    "df ['exercise_description'] = df ['Desc'] + ' It is a ' + df ['Type'] + ' exercise.' + ' It focusses on ' + df['BodyPart'] + ' body part.' + 'It is an '+ df['Level'] + ' exercise.'+ ' To perform this exercise, one must use '+ df['Equipment']"
   ],
   "metadata": {
    "collapsed": false,
    "ExecuteTime": {
     "end_time": "2024-08-05T14:21:26.733459Z",
     "start_time": "2024-08-05T14:21:26.729880Z"
    }
   },
   "id": "5c0789a31ebf4deb",
   "execution_count": 14
  },
  {
   "cell_type": "code",
   "outputs": [],
   "source": [
    "dataset_exercise_description={\"armraise\":\"The exercise involves standing upright and lifting the arms outward to the side until they are at shoulder level, then lowering them back down.\",\n",
    "    \"tricepkickback\": \"Performed by leaning forward slightly with a dumbbell in each hand, elbows bent, and then extending the arms to push the weights back and up.\",\n",
    "    \"overheadpress\":\"A strength-building exercise that involves pressing weights upward from shoulder height until the arms are extended overhead.\",\n",
    "    \"bicepcurl\": \"TThis exercise is done by holding weights in both hands and curling the arms upward while keeping the elbows close to the torso.\",\n",
    "    \"hammercurl\" : \"Similar to the bicep curl but performed with the palms facing each other. It engages both the biceps and the forearm muscles.\",\n",
    "    \"burpee\":\"A full-body exercise that combines a squat, jump, and pushup. It is known for its effectiveness in building strength and endurance.\",\n",
    "    \"vup\" : \"An abdominal exercise where one simultaneously lifts the legs and upper body off the ground, forming a 'V' shape with the body.\",\n",
    "    \"crunch\": \"Performed by lying on the back with knees bent, then curling the shoulders towards the pelvis.\",\n",
    "    \"pushup\": \"A fundamental body-weight exercise that involves lowering and raising the body using the arms while keeping the body straight.\",\n",
    "    \"birddog\": \"A core strengthening exercise that also improves balance and stability. It involves extending one arm and the opposite leg while kneeling on all fours.\"}"
   ],
   "metadata": {
    "collapsed": false,
    "ExecuteTime": {
     "end_time": "2024-08-05T14:21:26.735668Z",
     "start_time": "2024-08-05T14:21:26.733993Z"
    }
   },
   "id": "ad7d069ff21e46b9",
   "execution_count": 15
  },
  {
   "cell_type": "code",
   "outputs": [],
   "source": [
    "df= df.drop(['Unnamed: 0','Desc','Type','BodyPart','Level','Equipment','Rating','RatingDesc'],axis=1)"
   ],
   "metadata": {
    "collapsed": false,
    "ExecuteTime": {
     "end_time": "2024-08-05T14:21:26.737770Z",
     "start_time": "2024-08-05T14:21:26.736076Z"
    }
   },
   "id": "4eac3e3657e07f75",
   "execution_count": 16
  },
  {
   "cell_type": "code",
   "outputs": [],
   "source": [
    "tokenizer = AutoTokenizer.from_pretrained(\"sentence-transformers/all-MiniLM-L6-v2\")\n",
    "model = AutoModel.from_pretrained(\"sentence-transformers/all-MiniLM-L6-v2\")"
   ],
   "metadata": {
    "collapsed": false,
    "ExecuteTime": {
     "end_time": "2024-08-05T14:21:27.898771Z",
     "start_time": "2024-08-05T14:21:26.738235Z"
    }
   },
   "id": "443f01d9bd5c012b",
   "execution_count": 17
  },
  {
   "cell_type": "code",
   "outputs": [
    {
     "name": "stdout",
     "output_type": "stream",
     "text": [
      "Embeddings generated and saved.\n"
     ]
    }
   ],
   "source": [
    "def encode_text(texts):\n",
    "    encoded_input = tokenizer(texts, padding=True, truncation=True, return_tensors='pt', max_length=512)\n",
    "    with torch.no_grad():\n",
    "        model_output = model(**encoded_input)\n",
    "    embeddings = model_output.last_hidden_state.mean(dim=1)\n",
    "    return embeddings\n",
    "\n",
    "df['embeddings'] = df['Title'].apply(lambda x: encode_text([x]).numpy())\n",
    "df['embeddings'].to_pickle('embeddings.pkl')\n",
    "print(\"Embeddings generated and saved.\")"
   ],
   "metadata": {
    "collapsed": false,
    "ExecuteTime": {
     "end_time": "2024-08-05T14:21:36.430989Z",
     "start_time": "2024-08-05T14:21:27.899617Z"
    }
   },
   "id": "8d056d486960999",
   "execution_count": 18
  },
  {
   "cell_type": "code",
   "outputs": [],
   "source": [
    "def generate_embedding(text):\n",
    "    inputs = tokenizer(text, return_tensors=\"pt\", padding=True, truncation=True, max_length=512)\n",
    "    with torch.no_grad():\n",
    "        outputs = model(**inputs)\n",
    "    return outputs.last_hidden_state.mean(dim=1).numpy()"
   ],
   "metadata": {
    "collapsed": false,
    "ExecuteTime": {
     "end_time": "2024-08-05T14:21:36.434884Z",
     "start_time": "2024-08-05T14:21:36.432233Z"
    }
   },
   "id": "2977ec0db3bd2ec8",
   "execution_count": 19
  },
  {
   "cell_type": "code",
   "outputs": [],
   "source": [
    "def calculate_similarities(embeddings, user_embedding):\n",
    "    dataset_embeddings = np.array(embeddings)\n",
    "    if dataset_embeddings.ndim == 3 and dataset_embeddings.shape[1] == 1:\n",
    "        dataset_embeddings = dataset_embeddings.reshape(dataset_embeddings.shape[0], dataset_embeddings.shape[2])\n",
    "\n",
    "    if user_embedding.ndim == 2:\n",
    "        user_embedding = user_embedding.reshape(1, -1)  # Ensuring it is two-dimensional\n",
    "\n",
    "    return cosine_similarity(dataset_embeddings, user_embedding).flatten()"
   ],
   "metadata": {
    "collapsed": false,
    "ExecuteTime": {
     "end_time": "2024-08-05T14:21:36.438486Z",
     "start_time": "2024-08-05T14:21:36.436083Z"
    }
   },
   "id": "b25eaba85588f6c2",
   "execution_count": 20
  },
  {
   "cell_type": "markdown",
   "source": [
    "LLM based Tailored suggestions for Predictions"
   ],
   "metadata": {
    "collapsed": false
   },
   "id": "123da85f5af1f922"
  },
  {
   "cell_type": "code",
   "outputs": [],
   "source": [
    "client = OpenAI(api_key=os.environ.get(\"OPENAI_API_KEY\"))"
   ],
   "metadata": {
    "collapsed": false,
    "ExecuteTime": {
     "end_time": "2024-08-05T14:21:36.447640Z",
     "start_time": "2024-08-05T14:21:36.439169Z"
    }
   },
   "id": "e3130d2eac4bedbd",
   "execution_count": 21
  },
  {
   "cell_type": "code",
   "outputs": [],
   "source": [
    "User_profile = \"Elena Martinez, a 42-year-old graphic designer, struggles with chronic tennis elbow, resulting in pain on the outside of her elbow and weakened grip strength. Her condition, exacerbated by the repetitive strain of her profession, is managed through physical therapy and corticosteroid injections. Elena's primary fitness goal is to strengthen her arm muscles without worsening her symptoms, while also aiming to enhance her overall upper body strength and joint flexibility. She faces significant challenges, including the need to avoid high-impact and repetitive arm movements, and she often grapples with frustration over her slow progress and anxiety about potential re-injuries. Her daily routine involves prolonged computer work, interspersed with light exercises and bi-weekly physical therapy sessions.\""
   ],
   "metadata": {
    "collapsed": false,
    "ExecuteTime": {
     "end_time": "2024-08-05T14:21:36.450057Z",
     "start_time": "2024-08-05T14:21:36.448348Z"
    }
   },
   "id": "ad20917b418555f2",
   "execution_count": 22
  },
  {
   "cell_type": "code",
   "outputs": [],
   "source": [
    "predicted_exercise_embedding = generate_embedding(predicted_user_exercise)"
   ],
   "metadata": {
    "collapsed": false,
    "ExecuteTime": {
     "end_time": "2024-08-05T14:21:36.460600Z",
     "start_time": "2024-08-05T14:21:36.450607Z"
    }
   },
   "id": "4c8356a0d1530d01",
   "execution_count": 23
  },
  {
   "cell_type": "code",
   "outputs": [
    {
     "name": "stdout",
     "output_type": "stream",
     "text": [
      "                      Title  similarity  \\\n",
      "390               Bird dog-    0.848398   \n",
      "254           Half bird dog    0.743157   \n",
      "649  Exercise ball bird dog    0.626746   \n",
      "\n",
      "                                  exercise_description  \n",
      "390  The bird dog is a core exercise designed to he...  \n",
      "254  The half bird dog is a core exercise designed ...  \n",
      "649  The exercise ball bird dog is a dynamic moveme...  \n",
      "The bird dog is a core exercise designed to help strengthen and stabilize the posterior chain. It involves lifting an opposite-side arm and leg while in a bent-leg tabletop position. It is most commonly performed as part of a dynamic warm-up, or for mobility and muscle activation anytime. It is a Strength exercise. It focusses on Abdominals body part.It is an Intermediate exercise. To perform this exercise, one must use Body Only\n"
     ]
    }
   ],
   "source": [
    "similarities_1 = calculate_similarities(df['embeddings'].tolist(), predicted_exercise_embedding)\n",
    "df['similarity'] = similarities_1\n",
    "df_sorted = df.sort_values(by='similarity', ascending=False)\n",
    "print(df_sorted[['Title', 'similarity','exercise_description']].head(3))\n",
    "\n",
    "grounded_exercise_description = df_sorted['exercise_description'].iloc[0]\n",
    "print(grounded_exercise_description)"
   ],
   "metadata": {
    "collapsed": false,
    "ExecuteTime": {
     "end_time": "2024-08-05T14:21:36.513430Z",
     "start_time": "2024-08-05T14:21:36.461441Z"
    }
   },
   "id": "549686b2327f9da7",
   "execution_count": 24
  },
  {
   "cell_type": "code",
   "outputs": [],
   "source": [
    "user_message=f\"The user profile : {User_profile}, the exercise the user is performing: {predicted_user_exercise} and the exercise description is {grounded_exercise_description}\""
   ],
   "metadata": {
    "collapsed": false,
    "ExecuteTime": {
     "end_time": "2024-08-05T14:21:36.589359Z",
     "start_time": "2024-08-05T14:21:36.524955Z"
    }
   },
   "id": "ae10eea6bbaedb9a",
   "execution_count": 25
  },
  {
   "cell_type": "markdown",
   "source": [
    "Doctor Persona"
   ],
   "metadata": {
    "collapsed": false
   },
   "id": "61bff5104b5506a6"
  },
  {
   "cell_type": "code",
   "outputs": [
    {
     "name": "stderr",
     "output_type": "stream",
     "text": [
      "huggingface/tokenizers: The current process just got forked, after parallelism has already been used. Disabling parallelism to avoid deadlocks...\n",
      "To disable this warning, you can either:\n",
      "\t- Avoid using `tokenizers` before the fork if possible\n",
      "\t- Explicitly set the environment variable TOKENIZERS_PARALLELISM=(true | false)\n"
     ]
    }
   ],
   "source": [
    "response_1 = client.chat.completions.create(\n",
    "  model=\"gpt-4o-mini\",\n",
    "  messages=[\n",
    "    {\"role\": \"system\", \"content\": \"As an orthopedic specialist, your role involves advising individuals on how to maintain a healthy musculoskeletal system through appropriate physical activities. Given a user's profile and the specific exercise they are performing, analyze the typical physical movements associated with this exercise. Based on your knowledge, provide detailed suggestions and insights on how to perform these exercises correctly to prevent injuries and optimize musculoskeletal health.\"},\n",
    "    {\"role\": \"user\", \"content\": user_message}\n",
    "  ]\n",
    ")"
   ],
   "metadata": {
    "collapsed": false,
    "ExecuteTime": {
     "end_time": "2024-08-05T14:21:49.533920Z",
     "start_time": "2024-08-05T14:21:36.616061Z"
    }
   },
   "id": "393b295634344a3a",
   "execution_count": 26
  },
  {
   "cell_type": "code",
   "outputs": [],
   "source": [
    "message = response_1.choices[0].message.content"
   ],
   "metadata": {
    "collapsed": false,
    "ExecuteTime": {
     "end_time": "2024-08-05T14:21:49.539166Z",
     "start_time": "2024-08-05T14:21:49.535724Z"
    }
   },
   "id": "5d97091becf34d3c",
   "execution_count": 27
  },
  {
   "cell_type": "code",
   "outputs": [
    {
     "data": {
      "text/plain": "\"Elena, the bird dog exercise can be a beneficial addition to your routine, particularly for improving core stability and overall body strength without placing excessive strain on your arm or elbow. Let’s break down the movement and provide you some insights on how to perform it correctly, with special attention to managing your elbow condition.\\n\\n### Overview of the Bird Dog Exercise:\\n\\nThe bird dog works to engage and strengthen the core, glutes, and lower back, which are essential for overall body stability. This will also help in distributing loads more evenly throughout your body, potentially alleviating some strain on your upper body.\\n\\n### Proper Technique for Performing the Bird Dog:\\n\\n1. **Starting Position:**\\n   - Begin in a tabletop position with your hands directly under your shoulders and knees under your hips. \\n   - Ensure your back is flat, maintaining a neutral spine (not rounding or arching).\\n\\n2. **Engage Your Core:**\\n   - Before initiating movement, draw your navel towards your spine to activate your core muscles. This will provide stability to your lower back during the motion.\\n\\n3. **Movement Execution:**\\n   - Slowly extend your right arm forward and your left leg straight back. Keep both limbs parallel to the floor.\\n   - Focus on maintaining balance and controlling the movement. Avoid twisting your torso—keep your hips squared to the ground.\\n\\n4. **Hold the Position:**\\n   - Hold this position for a count of 2-3 seconds. Keep your neck aligned with your spine by looking down at your mat, which also helps to avoid tension in your neck.\\n\\n5. **Return to Starting Position:**\\n   - Bring your arm and leg back to the starting tabletop position with control. \\n   - Repeat on the opposite side, extending your left arm and right leg.\\n\\n6. **Repetition:**\\n   - Aim for 5-10 repetitions on each side, ensuring you maintain good form without over-exerting yourself.\\n\\n### Points to Consider:\\n\\n- **Range of Motion:** Given your history with tennis elbow, focus on maintaining a limited range of motion with your arm to prevent aggravation. It’s better to have less extension and maintain proper form than to push through pain.\\n  \\n- **Breathing:** Incorporate proper breathing by exhaling as you extend your limbs and inhaling as you return to the starting position. This can aid in maintaining core stability.\\n\\n- **Listen to Your Body:** If you start to feel any discomfort in your elbow during the exercise, stop immediately, and reassess your technique. Adjust the movement to a level that feels comfortable while still engaging your core.\\n\\n- **Warm-Up and Cool Down:** Ensure that you are properly warmed up before starting and include some gentle stretches and recovery movements after your session to improve flexibility.\\n\\n### Modifications:\\n\\n1. **Assisted Version:** If you find balancing difficult, you can perform the bird dog with your feet on the ground, lifting only your arm or leg at first to build strength and confidence.\\n\\n2. **Floor Support:** Consider performing the bird dog on a padded surface or using an exercise mat to provide extra cushioning for your knees.\\n\\n3. **Resistance Band:** If you feel comfortable and have progressed, you might consider using a resistance band around your feet for added challenge while performing the movement, but only if it's pain-free.\\n\\n### Conclusion:\\n\\nThe bird dog is an effective exercise for strengthening your core while being mindful of your upper body condition. Continuously monitor your body’s feedback as you perform this exercise, and do not hesitate to reach out to your physical therapist for additional advice tailored to your specific needs. Consistency, along with a focus on proper form, will be essential in your journey towards improved strength and stability.\""
     },
     "execution_count": 28,
     "metadata": {},
     "output_type": "execute_result"
    }
   ],
   "source": [
    "message"
   ],
   "metadata": {
    "collapsed": false,
    "ExecuteTime": {
     "end_time": "2024-08-05T14:21:49.552338Z",
     "start_time": "2024-08-05T14:21:49.547363Z"
    }
   },
   "id": "d2d9175a79aee65e",
   "execution_count": 28
  },
  {
   "cell_type": "code",
   "outputs": [],
   "source": [
    "user_message = f\"\"\"Analyze the given exercise using the information provided below. Identify key movements and techniques that ensure safe execution and minimize injury risk. Offer insights into how the exercise affects the joints and muscles, and provide recommendations for optimal form and technique. Discuss potential modifications for individuals with specific conditions or limitations, and explain how this exercise can contribute to long-term joint stability and musculoskeletal health.\n",
    "\n",
    "- User Profile: {User_profile}\n",
    "- Exercise Being Done: {predicted_user_exercise}\n",
    "- Grounded Description of the Exercise: {grounded_exercise_description}\"\"\""
   ],
   "metadata": {
    "collapsed": false,
    "ExecuteTime": {
     "end_time": "2024-08-05T14:21:49.559651Z",
     "start_time": "2024-08-05T14:21:49.554677Z"
    }
   },
   "id": "c1dc4ad9e50850b7",
   "execution_count": 29
  },
  {
   "cell_type": "code",
   "outputs": [],
   "source": [
    "response_2 = client.chat.completions.create(\n",
    "  model=\"gpt-4o-mini\",\n",
    "  messages=[\n",
    "    {\"role\": \"system\", \"content\": \"You are an orthopedic specialist. Your role is to provide a detailed analysis and insights on the execution of exercises to support musculoskeletal health.\"},\n",
    "      {\"role\":\"user\", \"content\": user_message}\n",
    "     ]\n",
    ")"
   ],
   "metadata": {
    "collapsed": false,
    "ExecuteTime": {
     "end_time": "2024-08-05T14:22:02.664246Z",
     "start_time": "2024-08-05T14:21:49.560986Z"
    }
   },
   "id": "1aaec58e7dbf3e18",
   "execution_count": 30
  },
  {
   "cell_type": "code",
   "outputs": [],
   "source": [
    "message = response_2.choices[0].message.content"
   ],
   "metadata": {
    "collapsed": false,
    "ExecuteTime": {
     "end_time": "2024-08-05T14:22:02.672192Z",
     "start_time": "2024-08-05T14:22:02.667839Z"
    }
   },
   "id": "b862711fc03b33c9",
   "execution_count": 31
  },
  {
   "cell_type": "code",
   "outputs": [
    {
     "data": {
      "text/plain": "\"### Analysis of the Bird Dog Exercise for Elena Martinez\\n\\nThe bird dog exercise is an excellent choice for Elena, given her background and specific musculoskeletal concerns. Below is a detailed breakdown of the key movements, techniques for safe execution, joint and muscle effects, optimal form, modifications for her condition, and the contribution of this exercise to long-term joint stability and musculoskeletal health.\\n\\n#### Key Movements and Techniques for Safe Execution\\n\\n1. **Starting Position**: \\n   - Start on all fours in a tabletop position. \\n   - Ensure that knees are beneath the hip joints and the hands are beneath the shoulders.\\n   - The spine should be in a neutral position, avoiding excessive arching or rounding.\\n\\n2. **Movement Execution**:\\n   - **Extension**: Extend the right arm forward and the left leg backward, focusing on maintaining a stable core. \\n   - **Alignment**: Keep the hips square to the ground and avoid twisting; the limbs should form a straight line from fingertips to toes.\\n   - **Breath Control**: Inhale while preparing and exhale while extending the arm and leg.\\n\\n3. **Return to Start**: \\n   - Slowly bring the arm and leg back to the starting position, ensuring control throughout the movement, to prevent injury.\\n\\n4. **Repetition**: Aim for 8-12 repetitions on each side, focusing on form rather than speed.\\n\\n#### Effects on Joints and Muscles\\n\\n- **Core Activation**: The bird dog primarily engages the abdominals, including the transverse abdominis, which provides stability to the spine.\\n- **Joint Stability**: The exercise promotes stability in the shoulder and hip joints by requiring the muscles around these joints to engage and stabilize during movement.\\n- **Gripping Strength**: Light engagement of the muscles in the hands and forearms occurs due to the isometric contraction while balancing, which can aid in enhancing grip strength relevant to Elena’s condition.\\n\\n#### Recommendations for Optimal Form and Technique\\n\\n- **Pelvic Position**: Ensure an engaged pelvic floor and a neutral pelvis to prevent any lumbar compensation.\\n- **Shoulder Alignment**: Keep the shoulder blades retracted and down, avoiding elevation or shrugging, which could exacerbate discomfort in the upper body.\\n- **Limitation on Range**: If any discomfort arises in the wrist or elbow, avoid full extension and keep movements within a pain-free range.\\n\\n#### Potential Modifications for Specific Conditions\\n\\nFor individuals like Elena, who struggle with conditions such as chronic tennis elbow:\\n\\n- **Wrist Support**: Consider using a soft wrist brace when performing this exercise to minimize strain on the elbow joints.\\n- **Reduced Range of Movement**: Allow for partial extensions of the arm and leg rather than full elongation if pain occurs. The focus should remain on maintaining stability rather than full range of motion.\\n- **Isometric Variations**: Hold the arm and leg extended without moving them, which can activate the muscles while reducing dynamic strain.\\n\\n#### Contribution to Long-term Joint Stability and Musculoskeletal Health\\n\\n1. **Enhanced Core Strength**: Strengthening the core leads to improved posture, which is critical for someone like Elena, who spends prolonged periods in front of a computer. Better posture helps decrease undue strain on the elbows and wrists.\\n\\n2. **Improved Coordination**: Enhancing the coordination between the upper and lower body can lead to better overall movement patterns that minimize injury risks during daily activities.\\n\\n3. **Rehab Role**: This exercise can serve as a rehabilitative tool, gradually increasing endurance and strength without high-impact stressors, essential for managing symptoms of repetitive strain injuries.\\n\\n4. **Functional Mobility**: Enhancing joint flexibility and muscular control will contribute positively to Elena's activities of daily living and improve her quality of life.\\n\\n### Conclusion\\n\\nThe bird dog exercise can be a valuable addition to Elena’s fitness routine, focusing on improving her stability and strength without aggravating her tennis elbow. Through careful attention to form, modifications as needed, and mindfulness during execution, she can safely reap the benefits of this exercise while working towards her long-term goals of reducing pain and enhancing overall musculoskeletal health. Regular consultation with her physical therapist will also help to tailor her exercise routine to her evolving needs and pain management strategies.\""
     },
     "execution_count": 32,
     "metadata": {},
     "output_type": "execute_result"
    }
   ],
   "source": [
    "message"
   ],
   "metadata": {
    "collapsed": false,
    "ExecuteTime": {
     "end_time": "2024-08-05T14:22:02.679265Z",
     "start_time": "2024-08-05T14:22:02.674757Z"
    }
   },
   "id": "c26a94610ec12425",
   "execution_count": 32
  },
  {
   "cell_type": "markdown",
   "source": [
    "Fitness Coaches"
   ],
   "metadata": {
    "collapsed": false
   },
   "id": "fe6130738936af9a"
  },
  {
   "cell_type": "code",
   "outputs": [],
   "source": [
    "user_message=f\"\"\"Analyze the given exercise using the information provided below. Provide metrics and strategies for improving the user's performance. Discuss how the exercise aligns with the user's fitness goals and offer tips for optimizing technique and maximizing benefits. Include advice on progression, such as increasing resistance or intensity, and emphasize performance metrics that indicate improvement, such as form precision, repetitions, and endurance. Provide motivational tips to keep the user engaged and progressing towards their fitness objectives.\n",
    "\n",
    "- User Profile: {User_profile}\n",
    "- Exercise Being Done: {predicted_user_exercise}\n",
    "- Grounded Description of the Exercise: {grounded_exercise_description}\n",
    "\"\"\""
   ],
   "metadata": {
    "collapsed": false,
    "ExecuteTime": {
     "end_time": "2024-08-05T14:22:02.683734Z",
     "start_time": "2024-08-05T14:22:02.680178Z"
    }
   },
   "id": "c7ab4ffdf35b1f38",
   "execution_count": 33
  },
  {
   "cell_type": "code",
   "outputs": [],
   "source": [
    "response = client.chat.completions.create(\n",
    "  model=\"gpt-4o-mini\",\n",
    "  messages=[\n",
    "    {\"role\": \"system\", \"content\": \"You are a fitness coach. Your goal is to enhance exercise performance and effectiveness.\"},\n",
    "    {\"role\": \"user\", \"content\": user_message}\n",
    "  ]\n",
    ")"
   ],
   "metadata": {
    "collapsed": false,
    "ExecuteTime": {
     "end_time": "2024-08-05T14:22:14.150981Z",
     "start_time": "2024-08-05T14:22:02.684671Z"
    }
   },
   "id": "7e470522c4e2908a",
   "execution_count": 34
  },
  {
   "cell_type": "code",
   "outputs": [],
   "source": [
    "message = response.choices[0].message.content"
   ],
   "metadata": {
    "collapsed": false,
    "ExecuteTime": {
     "end_time": "2024-08-05T14:22:14.155384Z",
     "start_time": "2024-08-05T14:22:14.152436Z"
    }
   },
   "id": "64e1f71d00e93386",
   "execution_count": 35
  },
  {
   "cell_type": "code",
   "outputs": [
    {
     "data": {
      "text/plain": "\"### Exercise Analysis: Bird Dog\\n\\n**Overview**:\\nThe bird dog exercise is particularly beneficial for core stability, spinal alignment, and overall functional strength, all crucial for someone like Elena, who is managing chronic tennis elbow and looking to enhance her upper body strength without causing additional strain. \\n\\n### Performance Metrics\\n\\n1. **Form Precision**: Ensure that Elena maintains a neutral spine and that the movements with the arm and leg are controlled. The hips should remain square to the ground.\\n2. **Repetitions**: Start with sets of 5-8 repetitions on each side, aiming for 2-3 sets. As her comfort with the exercise increases and her pain decreases, she can gradually increase the number of reps, working toward 10-15 repetitions.\\n3. **Endurance**: Track endurance by increasing the hold duration of each side (aim for 3-5 seconds at first and progress to 10 seconds or more) to enhance muscle stability and strength.\\n\\n### Alignment with Fitness Goals\\n- **Strengthening Arm Muscles**: While directly not targeting forearm muscles, the bird dog strengthens the core and stabilizer muscles, which help Elena maintain proper form in other upper body exercises as she progresses. \\n- **Upper Body Strength Enhancement**: The engagement of shoulder stabilizers when lifting the arm contributes to building muscular endurance and strength.\\n- **Joint Flexibility**: Controlled movements assist in maintaining flexibility in the shoulder and hip joints.\\n\\n### Technique Optimization Tips\\n1. **Warm-Up**: Begin with gentle wrist and shoulder mobility exercises to prepare the joint for stabilization.\\n2. **Focus on Breathing**: Train her to exhale while extending the arm and leg, helping maintain core tension and ease tightness in the shoulder.\\n3. **Use Visual Cues**: Encourage Elena to perform the bird dog while looking at a spot on the floor a few feet ahead to help keep the neck neutral.\\n\\n### Strategies for Progression\\n- **Increase Resistance**: As form and repetitions improve, consider adding light resistance bands around the wrists or ankles to increase difficulty.\\n- **Modify for Stability**: To further enhance core strength with some variations, Elena can perform the bird dog on an unstable surface (like a balance cushion) once she is comfortable with the basic movement.\\n- **Incorporate Plum Line Check**: Use a mirror to check alignment or record her exercise to monitor improvements in form.\\n\\n### Performance Metrics to Indicate Improvement\\n- **Joint Stability**: Track any reduction in pain during and after executing the bird dog, indicating improved joint stability and strength.\\n- **Increased Repetitions**: Monitor how many repetitions she can complete while maintaining proper form over time.\\n- **Enhanced Endurance**: Evaluate her ability to maintain holds and control movements over longer durations without pain.\\n\\n### Motivational Tips\\n1. **Set Small Achievable Goals**: Celebrate small milestones such as completing a set number of repetitions or maintaining a hold for longer. This fosters a sense of accomplishment.\\n2. **Reflect on Progress**: Suggest keeping a journal to reflect on daily or weekly improvements in performance and pain levels, which may help alleviate frustration.\\n3. **Find a Supportive Community**: Engaging with a community, either online or in-person, can provide encouragement and support through shared experiences related to overcoming physical limitations.\\n\\n### Conclusion\\nThe bird dog exercise offers multiple physical benefits potentially fostering Elena's progress towards her fitness goals. By carefully monitoring her form, slowly progressing in intensity, and celebrating small victories along the way, she can enhance her upper body strength while managing her chronic condition. Remind her that patience is essential, and each small step forward is significant in her fitness journey.\""
     },
     "execution_count": 36,
     "metadata": {},
     "output_type": "execute_result"
    }
   ],
   "source": [
    "message"
   ],
   "metadata": {
    "collapsed": false,
    "ExecuteTime": {
     "end_time": "2024-08-05T14:22:14.161128Z",
     "start_time": "2024-08-05T14:22:14.156249Z"
    }
   },
   "id": "47d3b38272d191be",
   "execution_count": 36
  },
  {
   "cell_type": "markdown",
   "source": [
    "Fitness Coach interacting with Older Individuals"
   ],
   "metadata": {
    "collapsed": false
   },
   "id": "172c3fc23e8ff689"
  },
  {
   "cell_type": "code",
   "outputs": [],
   "source": [
    "user_message = f\"\"\"Analyze the given exercise using the information provided below. Provide clear and simple explanations of the exercise and its benefits. Emphasize key safety considerations, such as maintaining balance and using supports if necessary. Offer modifications to accommodate limited mobility or existing health conditions. Highlight the importance of exercises in improving strength, flexibility, and overall well-being, and encourage regular practice as part of a healthy lifestyle. Ensure that the guidance is accessible and encourages confidence and independence.\n",
    "\n",
    "- User Profile: {User_profile}\n",
    "- Exercise Being Done: {predicted_user_exercise}\n",
    "- Grounded Description of the Exercise: {grounded_exercise_description}\n",
    "\"\"\""
   ],
   "metadata": {
    "collapsed": false,
    "ExecuteTime": {
     "end_time": "2024-08-05T14:22:14.166810Z",
     "start_time": "2024-08-05T14:22:14.162732Z"
    }
   },
   "id": "ea098b013eb10d60",
   "execution_count": 37
  },
  {
   "cell_type": "code",
   "outputs": [],
   "source": [
    "response = client.chat.completions.create(\n",
    "  model=\"gpt-4o-mini\",\n",
    "  messages=[\n",
    "    {\"role\": \"system\", \"content\": \"You are a fitness coach working with older adults. Your priority is to ensure safety and simplicity in exercise instructions.\"},\n",
    "    {\"role\": \"user\", \"content\": user_message}\n",
    "  ]\n",
    ")"
   ],
   "metadata": {
    "collapsed": false,
    "ExecuteTime": {
     "end_time": "2024-08-05T14:22:25.415237Z",
     "start_time": "2024-08-05T14:22:14.167422Z"
    }
   },
   "id": "bfe2c4ffcf6381ad",
   "execution_count": 38
  },
  {
   "cell_type": "code",
   "outputs": [],
   "source": [
    "message = response.choices[0].message.content"
   ],
   "metadata": {
    "collapsed": false,
    "ExecuteTime": {
     "end_time": "2024-08-05T14:22:25.422020Z",
     "start_time": "2024-08-05T14:22:25.417952Z"
    }
   },
   "id": "567b090764b2848b",
   "execution_count": 39
  },
  {
   "cell_type": "code",
   "outputs": [
    {
     "data": {
      "text/plain": "\"**Exercise: Bird Dog**\\n\\n**Overview:**\\nThe bird dog is an excellent exercise designed to improve core strength, balance, and stability. It primarily targets the abdominal muscles while also engaging the back, glutes, and shoulders. While it's categorized as an intermediate exercise, we can adapt it to make it safer and more accessible, especially for individuals like Elena, who may be managing pain from tennis elbow and needs to avoid strain on her arms.\\n\\n**How to Perform the Bird Dog:**\\n\\n1. **Start Position:**\\n   - Begin on your hands and knees on a comfortable surface, like a yoga mat.\\n   - Ensure your hands are directly under your shoulders, and your knees are under your hips. Keep your back flat, looking down at the mat to maintain a neutral spine.\\n\\n2. **Movement:**\\n   - Slowly extend your right arm forward and your left leg backward at the same time. Make sure to keep both limbs at about hip height.\\n   - Hold this position for a moment, focusing on your balance.\\n   - Carefully return to the starting position.\\n   - Repeat the movement on the opposite side, extending your left arm and right leg.\\n\\n3. **Repetitions:**\\n   - Aim for 5-10 repetitions on each side, maintaining control and stability throughout the movements.\\n\\n**Benefits:**\\n- **Strength Building:** The bird dog strengthens the core, which is crucial for overall stability and movement. This is particularly beneficial for Elena as she seeks to enhance her upper body strength while minimizing strain on her arms.\\n- **Balance Improvement:** This exercise also improves balance, an important aspect of fitness that helps prevent falls and enhances overall mobility.\\n- **Flexibility:** Engaging in this exercise can help improve flexibility in the hips and shoulders, which contributes to better movement patterns in daily activities.\\n\\n**Safety Considerations:**\\n- **Maintain Balance:** If you feel unsteady, use a wall or a sturdy chair for support. You can also perform the exercise on a soft surface or a mat for added comfort.\\n- **Focus on Control:** Avoid rushing the movements. Slow, controlled motions will help prevent re-injury and keep you focused on your form.\\n- **Listen to Your Body:** If you feel pain, particularly in your elbow, stop immediately. Modify the exercise or consult with a physical therapist for alternative movements.\\n\\n**Modifications for Limited Mobility or Pain:**\\n1. **Adapted Range of Motion:** Instead of extending both the arm and the leg, you can simply lift one limb slightly (e.g. only raising the arm without extending it fully) or perform the exercise seated in a sturdy chair.\\n2. **Using Support:** If balancing is challenging on your hands and knees, you can do a standing version by extending one arm while holding onto a sturdy surface like a countertop for support.\\n3. **Reduce Strain on the Elbow:** Focus on gentle movements that keep the elbow relaxed and avoid excessive lifting or reaching that can cause discomfort.\\n\\n**Encouragement for Regular Practice:**\\nIncorporating the bird dog into your routine can significantly contribute to improving your overall strength and flexibility while promoting a sense of independence and confidence. Consistency is key; aim to practice this exercise several times a week, gradually increasing your repetitions as your strength improves.\\n\\nRemember, it's important to stay positive and patient as you progress on your fitness journey. Small improvements can lead to significant benefits over time, so celebrate every achievement along the way!\""
     },
     "execution_count": 40,
     "metadata": {},
     "output_type": "execute_result"
    }
   ],
   "source": [
    "message"
   ],
   "metadata": {
    "collapsed": false,
    "ExecuteTime": {
     "end_time": "2024-08-05T14:22:25.426878Z",
     "start_time": "2024-08-05T14:22:25.423697Z"
    }
   },
   "id": "d027f08275b7539d",
   "execution_count": 40
  },
  {
   "cell_type": "code",
   "outputs": [],
   "source": [],
   "metadata": {
    "collapsed": false,
    "ExecuteTime": {
     "end_time": "2024-08-05T14:22:25.428969Z",
     "start_time": "2024-08-05T14:22:25.427557Z"
    }
   },
   "id": "ad1362dd2cb0360b",
   "execution_count": 40
  }
 ],
 "metadata": {
  "kernelspec": {
   "display_name": "Python 3",
   "language": "python",
   "name": "python3"
  },
  "language_info": {
   "codemirror_mode": {
    "name": "ipython",
    "version": 2
   },
   "file_extension": ".py",
   "mimetype": "text/x-python",
   "name": "python",
   "nbconvert_exporter": "python",
   "pygments_lexer": "ipython2",
   "version": "2.7.6"
  }
 },
 "nbformat": 4,
 "nbformat_minor": 5
}
