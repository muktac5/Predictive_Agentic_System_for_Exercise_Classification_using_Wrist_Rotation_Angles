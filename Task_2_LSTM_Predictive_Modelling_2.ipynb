{
 "cells": [
  {
   "cell_type": "code",
   "execution_count": 1,
   "id": "initial_id",
   "metadata": {
    "collapsed": true,
    "ExecuteTime": {
     "end_time": "2024-08-05T03:22:42.067587Z",
     "start_time": "2024-08-05T03:22:39.172325Z"
    }
   },
   "outputs": [],
   "source": [
    "import pandas as pd\n",
    "import numpy as np\n",
    "from sklearn.preprocessing import OneHotEncoder, LabelEncoder\n",
    "from sklearn.preprocessing import StandardScaler\n",
    "from sklearn.model_selection import train_test_split\n",
    "from tensorflow.keras.models import Sequential\n",
    "from tensorflow.keras.layers import LSTM, Dense, Dropout\n",
    "from scipy.fft import fft"
   ]
  },
  {
   "cell_type": "code",
   "outputs": [],
   "source": [
    "data_df=pd.read_csv('/Users/mm/Desktop/Myolab/prepared_data.csv')"
   ],
   "metadata": {
    "collapsed": false,
    "ExecuteTime": {
     "end_time": "2024-08-05T03:22:42.663623Z",
     "start_time": "2024-08-05T03:22:42.068471Z"
    }
   },
   "id": "40cc9b833d8b701c",
   "execution_count": 2
  },
  {
   "cell_type": "code",
   "outputs": [
    {
     "data": {
      "text/plain": "Index(['exercise', 'rep_count_from_intermediate', 'rep_count_from_start',\n       'ref_xy_rotation', 'time', 'euler_X', 'euler_Y', 'euler_Z'],\n      dtype='object')"
     },
     "execution_count": 3,
     "metadata": {},
     "output_type": "execute_result"
    }
   ],
   "source": [
    "data_df.columns"
   ],
   "metadata": {
    "collapsed": false,
    "ExecuteTime": {
     "end_time": "2024-08-05T03:22:42.668753Z",
     "start_time": "2024-08-05T03:22:42.665400Z"
    }
   },
   "id": "124b8f2024555a5e",
   "execution_count": 3
  },
  {
   "cell_type": "code",
   "outputs": [
    {
     "data": {
      "text/plain": "(1188661, 8)"
     },
     "execution_count": 4,
     "metadata": {},
     "output_type": "execute_result"
    }
   ],
   "source": [
    "data_df.shape"
   ],
   "metadata": {
    "collapsed": false,
    "ExecuteTime": {
     "end_time": "2024-08-05T03:22:42.672021Z",
     "start_time": "2024-08-05T03:22:42.670044Z"
    }
   },
   "id": "3985802de9425619",
   "execution_count": 4
  },
  {
   "cell_type": "code",
   "outputs": [],
   "source": [
    "def process_chunk(chunk):\n",
    "    for angle in ['euler_X', 'euler_Y', 'euler_Z']:\n",
    "        chunk[f'{angle}_diff'] = chunk[angle].diff().fillna(0)\n",
    "        chunk[f'{angle}_roll_mean'] = chunk[angle].rolling(window=5).mean().fillna(method='bfill')\n",
    "        chunk[f'{angle}_fft'] = np.abs(fft(chunk[angle].to_numpy()))\n",
    "        chunk[f'{angle}_skew'] = chunk[angle].rolling(window=5).skew().fillna(method='bfill')\n",
    "        chunk[f'{angle}_kurt'] = chunk[angle].rolling(window=5).kurt().fillna(method='bfill')\n",
    "\n",
    "    return chunk\n",
    "\n",
    "chunk_size = 100000 \n",
    "chunks = [process_chunk(chunk) for chunk in np.array_split(data_df, len(data_df) // chunk_size + 1)]\n",
    "data_df = pd.concat(chunks, ignore_index=True)"
   ],
   "metadata": {
    "collapsed": false,
    "ExecuteTime": {
     "end_time": "2024-08-05T03:22:43.146397Z",
     "start_time": "2024-08-05T03:22:42.672503Z"
    }
   },
   "id": "dbe062d45a8f02f2",
   "execution_count": 5
  },
  {
   "cell_type": "code",
   "outputs": [
    {
     "data": {
      "text/plain": "Index(['exercise', 'rep_count_from_intermediate', 'rep_count_from_start',\n       'ref_xy_rotation', 'time', 'euler_X', 'euler_Y', 'euler_Z',\n       'euler_X_diff', 'euler_X_roll_mean', 'euler_X_fft', 'euler_X_skew',\n       'euler_X_kurt', 'euler_Y_diff', 'euler_Y_roll_mean', 'euler_Y_fft',\n       'euler_Y_skew', 'euler_Y_kurt', 'euler_Z_diff', 'euler_Z_roll_mean',\n       'euler_Z_fft', 'euler_Z_skew', 'euler_Z_kurt'],\n      dtype='object')"
     },
     "execution_count": 6,
     "metadata": {},
     "output_type": "execute_result"
    }
   ],
   "source": [
    "data_df.columns"
   ],
   "metadata": {
    "collapsed": false,
    "ExecuteTime": {
     "end_time": "2024-08-05T03:22:43.150444Z",
     "start_time": "2024-08-05T03:22:43.147197Z"
    }
   },
   "id": "66e0c75bf0c53422",
   "execution_count": 6
  },
  {
   "cell_type": "code",
   "outputs": [],
   "source": [
    "numerical_features = data_df[['rep_count_from_intermediate', 'rep_count_from_start',\n",
    "       'ref_xy_rotation', 'time', 'euler_X', 'euler_Y', 'euler_Z',\n",
    "       'euler_X_diff', 'euler_X_roll_mean', 'euler_X_fft', 'euler_X_skew',\n",
    "       'euler_X_kurt', 'euler_Y_diff', 'euler_Y_roll_mean', 'euler_Y_fft',\n",
    "       'euler_Y_skew', 'euler_Y_kurt', 'euler_Z_diff', 'euler_Z_roll_mean',\n",
    "       'euler_Z_fft', 'euler_Z_skew', 'euler_Z_kurt']]  \n",
    "categorical_features = data_df['exercise'] . append(\"other\") # Target variable\n",
    "\n",
    "# Encode the categorical target variable\n",
    "encoder = OneHotEncoder(sparse_output=False)\n",
    "target_encoded = encoder.fit_transform(categorical_features.values.reshape(-1, 1))"
   ],
   "metadata": {
    "collapsed": false,
    "ExecuteTime": {
     "end_time": "2024-08-05T03:22:43.679848Z",
     "start_time": "2024-08-05T03:22:43.151014Z"
    }
   },
   "id": "d89d245792fc5a8",
   "execution_count": 7
  },
  {
   "cell_type": "code",
   "outputs": [
    {
     "data": {
      "text/plain": "array(['armraise', 'tricepkickback', 'overheadpress', 'bicepcurl',\n       'hammercurl', 'burpee', 'vup', 'crunch', 'pushup', 'birddog'],\n      dtype=object)"
     },
     "execution_count": 32,
     "metadata": {},
     "output_type": "execute_result"
    }
   ],
   "source": [
    "data_df['exercise'].unique()"
   ],
   "metadata": {
    "collapsed": false,
    "ExecuteTime": {
     "end_time": "2024-08-05T04:01:03.146241Z",
     "start_time": "2024-08-05T04:01:03.097970Z"
    }
   },
   "id": "37aba0b3b104c608",
   "execution_count": 32
  },
  {
   "cell_type": "code",
   "outputs": [],
   "source": [
    "scaler = StandardScaler()\n",
    "numerical_features_scaled = scaler.fit_transform(numerical_features)"
   ],
   "metadata": {
    "collapsed": false,
    "ExecuteTime": {
     "end_time": "2024-08-05T03:22:43.857882Z",
     "start_time": "2024-08-05T03:22:43.687124Z"
    }
   },
   "id": "e7182d957cad3d91",
   "execution_count": 8
  },
  {
   "cell_type": "code",
   "outputs": [],
   "source": [
    "num_samples = numerical_features_scaled.shape[0]\n",
    "num_time_steps = 1 \n",
    "num_features = numerical_features_scaled.shape[1]\n",
    "\n",
    "X_reshaped = numerical_features_scaled.reshape((num_samples, num_time_steps, num_features))"
   ],
   "metadata": {
    "collapsed": false,
    "ExecuteTime": {
     "end_time": "2024-08-05T03:22:43.860389Z",
     "start_time": "2024-08-05T03:22:43.858631Z"
    }
   },
   "id": "75dc3c0673aa1e70",
   "execution_count": 9
  },
  {
   "cell_type": "code",
   "outputs": [],
   "source": [
    "X_train, X_test, y_train, y_test = train_test_split(X_reshaped, target_encoded, test_size=0.2, random_state=42)"
   ],
   "metadata": {
    "collapsed": false,
    "ExecuteTime": {
     "end_time": "2024-08-05T03:22:44.203536Z",
     "start_time": "2024-08-05T03:22:43.862664Z"
    }
   },
   "id": "a78f45ecf2b05039",
   "execution_count": 10
  },
  {
   "cell_type": "code",
   "outputs": [],
   "source": [
    "model = Sequential([\n",
    "    LSTM(50, return_sequences=True, input_shape=(num_time_steps, num_features)),\n",
    "    Dropout(0.2),\n",
    "    LSTM(50),\n",
    "    Dropout(0.2),\n",
    "    Dense(target_encoded.shape[1], activation='softmax') \n",
    "])\n",
    "\n",
    "model.compile(optimizer='adam', loss='categorical_crossentropy', metrics=['accuracy'])"
   ],
   "metadata": {
    "collapsed": false,
    "ExecuteTime": {
     "end_time": "2024-08-05T03:22:44.497059Z",
     "start_time": "2024-08-05T03:22:44.204505Z"
    }
   },
   "id": "a1fc415afaeb44",
   "execution_count": 11
  },
  {
   "cell_type": "code",
   "outputs": [
    {
     "name": "stdout",
     "output_type": "stream",
     "text": [
      "Epoch 1/30\n",
      "29717/29717 [==============================] - 32s 1ms/step - loss: 0.6489 - accuracy: 0.7571 - val_loss: 0.3392 - val_accuracy: 0.8727\n",
      "Epoch 2/30\n",
      "29717/29717 [==============================] - 32s 1ms/step - loss: 0.4279 - accuracy: 0.8389 - val_loss: 0.2736 - val_accuracy: 0.8983\n",
      "Epoch 3/30\n",
      "29717/29717 [==============================] - 36s 1ms/step - loss: 0.3814 - accuracy: 0.8564 - val_loss: 0.2459 - val_accuracy: 0.9094\n",
      "Epoch 4/30\n",
      "29717/29717 [==============================] - 37s 1ms/step - loss: 0.3543 - accuracy: 0.8671 - val_loss: 0.2209 - val_accuracy: 0.9187\n",
      "Epoch 5/30\n",
      "29717/29717 [==============================] - 37s 1ms/step - loss: 0.3396 - accuracy: 0.8731 - val_loss: 0.2073 - val_accuracy: 0.9237\n",
      "Epoch 6/30\n",
      "29717/29717 [==============================] - 36s 1ms/step - loss: 0.3263 - accuracy: 0.8778 - val_loss: 0.1987 - val_accuracy: 0.9269\n",
      "Epoch 7/30\n",
      "29717/29717 [==============================] - 36s 1ms/step - loss: 0.3166 - accuracy: 0.8820 - val_loss: 0.1905 - val_accuracy: 0.9300\n",
      "Epoch 8/30\n",
      "29717/29717 [==============================] - 36s 1ms/step - loss: 0.3096 - accuracy: 0.8846 - val_loss: 0.1831 - val_accuracy: 0.9329\n",
      "Epoch 9/30\n",
      "29717/29717 [==============================] - 37s 1ms/step - loss: 0.3030 - accuracy: 0.8870 - val_loss: 0.1771 - val_accuracy: 0.9359\n",
      "Epoch 10/30\n",
      "29717/29717 [==============================] - 35s 1ms/step - loss: 0.2971 - accuracy: 0.8891 - val_loss: 0.1739 - val_accuracy: 0.9357\n",
      "Epoch 11/30\n",
      "29717/29717 [==============================] - 36s 1ms/step - loss: 0.2920 - accuracy: 0.8911 - val_loss: 0.1673 - val_accuracy: 0.9391\n",
      "Epoch 12/30\n",
      "29717/29717 [==============================] - 36s 1ms/step - loss: 0.2803 - accuracy: 0.8955 - val_loss: 0.1468 - val_accuracy: 0.9463\n",
      "Epoch 13/30\n",
      "29717/29717 [==============================] - 33s 1ms/step - loss: 0.2458 - accuracy: 0.9089 - val_loss: 0.1256 - val_accuracy: 0.9539\n",
      "Epoch 14/30\n",
      "29717/29717 [==============================] - 33s 1ms/step - loss: 0.2314 - accuracy: 0.9146 - val_loss: 0.1181 - val_accuracy: 0.9585\n",
      "Epoch 15/30\n",
      "29717/29717 [==============================] - 32s 1ms/step - loss: 0.2207 - accuracy: 0.9194 - val_loss: 0.0989 - val_accuracy: 0.9664\n",
      "Epoch 16/30\n",
      "29717/29717 [==============================] - 32s 1ms/step - loss: 0.2096 - accuracy: 0.9234 - val_loss: 0.0986 - val_accuracy: 0.9657\n",
      "Epoch 17/30\n",
      "29717/29717 [==============================] - 33s 1ms/step - loss: 0.2040 - accuracy: 0.9259 - val_loss: 0.0947 - val_accuracy: 0.9670\n",
      "Epoch 18/30\n",
      "29717/29717 [==============================] - 32s 1ms/step - loss: 0.2002 - accuracy: 0.9276 - val_loss: 0.0946 - val_accuracy: 0.9671\n",
      "Epoch 19/30\n",
      "29717/29717 [==============================] - 33s 1ms/step - loss: 0.1951 - accuracy: 0.9291 - val_loss: 0.0836 - val_accuracy: 0.9715\n",
      "Epoch 20/30\n",
      "29717/29717 [==============================] - 36s 1ms/step - loss: 0.1925 - accuracy: 0.9304 - val_loss: 0.0808 - val_accuracy: 0.9721\n",
      "Epoch 21/30\n",
      "29717/29717 [==============================] - 36s 1ms/step - loss: 0.1884 - accuracy: 0.9317 - val_loss: 0.0860 - val_accuracy: 0.9699\n",
      "Epoch 22/30\n",
      "29717/29717 [==============================] - 36s 1ms/step - loss: 0.1856 - accuracy: 0.9326 - val_loss: 0.0796 - val_accuracy: 0.9724\n",
      "Epoch 23/30\n",
      "29717/29717 [==============================] - 36s 1ms/step - loss: 0.1830 - accuracy: 0.9333 - val_loss: 0.0794 - val_accuracy: 0.9724\n",
      "Epoch 24/30\n",
      "29717/29717 [==============================] - 35s 1ms/step - loss: 0.1821 - accuracy: 0.9340 - val_loss: 0.0706 - val_accuracy: 0.9764\n",
      "Epoch 25/30\n",
      "29717/29717 [==============================] - 32s 1ms/step - loss: 0.1794 - accuracy: 0.9349 - val_loss: 0.0718 - val_accuracy: 0.9756\n",
      "Epoch 26/30\n",
      "29717/29717 [==============================] - 50s 2ms/step - loss: 0.1781 - accuracy: 0.9355 - val_loss: 0.0706 - val_accuracy: 0.9761\n",
      "Epoch 27/30\n",
      "29717/29717 [==============================] - 62s 2ms/step - loss: 0.1737 - accuracy: 0.9375 - val_loss: 0.0706 - val_accuracy: 0.9757\n",
      "Epoch 28/30\n",
      "29717/29717 [==============================] - 53s 2ms/step - loss: 0.1648 - accuracy: 0.9406 - val_loss: 0.0712 - val_accuracy: 0.9751\n",
      "Epoch 29/30\n",
      "29717/29717 [==============================] - 37s 1ms/step - loss: 0.1610 - accuracy: 0.9423 - val_loss: 0.0774 - val_accuracy: 0.9730\n",
      "Epoch 30/30\n",
      "29717/29717 [==============================] - 35s 1ms/step - loss: 0.1581 - accuracy: 0.9431 - val_loss: 0.0660 - val_accuracy: 0.9770\n"
     ]
    }
   ],
   "source": [
    "history = model.fit(X_train, y_train, epochs=30, validation_data=(X_test, y_test), batch_size=32)"
   ],
   "metadata": {
    "collapsed": false,
    "ExecuteTime": {
     "end_time": "2024-08-05T03:41:08.613085Z",
     "start_time": "2024-08-05T03:22:44.498016Z"
    }
   },
   "id": "b14c3af3f07f7f20",
   "execution_count": 12
  },
  {
   "cell_type": "code",
   "outputs": [
    {
     "name": "stdout",
     "output_type": "stream",
     "text": [
      "7430/7430 [==============================] - 4s 475us/step - loss: 0.0660 - accuracy: 0.9770\n"
     ]
    }
   ],
   "source": [
    "performance = model.evaluate(X_test, y_test)"
   ],
   "metadata": {
    "collapsed": false,
    "ExecuteTime": {
     "end_time": "2024-08-05T03:41:12.326121Z",
     "start_time": "2024-08-05T03:41:08.620815Z"
    }
   },
   "id": "5e6ed3f305ada27c",
   "execution_count": 13
  },
  {
   "cell_type": "code",
   "outputs": [
    {
     "name": "stdout",
     "output_type": "stream",
     "text": [
      "7430/7430 [==============================] - 4s 443us/step\n"
     ]
    }
   ],
   "source": [
    "predictions = model.predict(X_test)"
   ],
   "metadata": {
    "collapsed": false,
    "ExecuteTime": {
     "end_time": "2024-08-05T03:41:17.028633Z",
     "start_time": "2024-08-05T03:41:12.327021Z"
    }
   },
   "id": "2ddfd0ee9328747a",
   "execution_count": 14
  },
  {
   "cell_type": "code",
   "outputs": [],
   "source": [
    "predicted_indices = np.argmax(predictions, axis=1)\n",
    "\n",
    "predicted_one_hot = np.zeros((predicted_indices.size, predictions.shape[1]))\n",
    "predicted_one_hot[np.arange(predicted_indices.size), predicted_indices] = 1\n",
    "\n",
    "predicted_labels = encoder.inverse_transform(predicted_one_hot)"
   ],
   "metadata": {
    "collapsed": false,
    "ExecuteTime": {
     "end_time": "2024-08-05T03:41:17.063299Z",
     "start_time": "2024-08-05T03:41:17.029764Z"
    }
   },
   "id": "47a7846be21fb4a",
   "execution_count": 15
  },
  {
   "cell_type": "code",
   "outputs": [
    {
     "data": {
      "text/plain": "array([['overheadpress'],\n       ['birddog'],\n       ['birddog'],\n       ...,\n       ['birddog'],\n       ['burpee'],\n       ['overheadpress']], dtype=object)"
     },
     "execution_count": 16,
     "metadata": {},
     "output_type": "execute_result"
    }
   ],
   "source": [
    "predicted_labels"
   ],
   "metadata": {
    "collapsed": false,
    "ExecuteTime": {
     "end_time": "2024-08-05T03:41:17.067045Z",
     "start_time": "2024-08-05T03:41:17.063974Z"
    }
   },
   "id": "8ee06579460809c8",
   "execution_count": 16
  },
  {
   "cell_type": "code",
   "outputs": [],
   "source": [
    "actual_labels = encoder.inverse_transform(y_test)"
   ],
   "metadata": {
    "collapsed": false,
    "ExecuteTime": {
     "end_time": "2024-08-05T03:41:17.078568Z",
     "start_time": "2024-08-05T03:41:17.067535Z"
    }
   },
   "id": "42ab8143bd44a116",
   "execution_count": 17
  },
  {
   "cell_type": "code",
   "outputs": [
    {
     "data": {
      "text/plain": "array([['overheadpress'],\n       ['birddog'],\n       ['birddog'],\n       ...,\n       ['birddog'],\n       ['burpee'],\n       ['overheadpress']], dtype=object)"
     },
     "execution_count": 18,
     "metadata": {},
     "output_type": "execute_result"
    }
   ],
   "source": [
    "actual_labels"
   ],
   "metadata": {
    "collapsed": false,
    "ExecuteTime": {
     "end_time": "2024-08-05T03:41:17.081066Z",
     "start_time": "2024-08-05T03:41:17.079105Z"
    }
   },
   "id": "bee7411c56e671a3",
   "execution_count": 18
  },
  {
   "cell_type": "code",
   "outputs": [
    {
     "data": {
      "text/plain": "numpy.ndarray"
     },
     "execution_count": 28,
     "metadata": {},
     "output_type": "execute_result"
    }
   ],
   "source": [
    "type(X_test[1])"
   ],
   "metadata": {
    "collapsed": false,
    "ExecuteTime": {
     "end_time": "2024-08-05T03:51:11.492281Z",
     "start_time": "2024-08-05T03:51:11.485386Z"
    }
   },
   "id": "30adf6060d43dc58",
   "execution_count": 28
  },
  {
   "cell_type": "code",
   "outputs": [
    {
     "data": {
      "text/plain": "array([[-9.28317111e-01, -9.26705018e-01, -1.33821092e+00,\n         1.59151996e-01, -9.80534562e-01,  1.13180968e+00,\n        -8.14734264e-01, -1.29092260e-02, -1.01997518e+00,\n         2.10817179e+00,  2.12091685e-02, -1.51470508e-03,\n        -4.27905404e-02,  1.15207013e+00,  1.26888526e+00,\n        -6.85882976e-01, -1.34530801e-01, -2.87846841e-02,\n        -8.30967007e-01,  2.60652480e+00, -2.04741732e-01,\n        -1.45619779e-03]])"
     },
     "execution_count": 23,
     "metadata": {},
     "output_type": "execute_result"
    }
   ],
   "source": [
    "X_test[1]"
   ],
   "metadata": {
    "collapsed": false,
    "ExecuteTime": {
     "end_time": "2024-08-05T03:47:20.898505Z",
     "start_time": "2024-08-05T03:47:20.891934Z"
    }
   },
   "id": "e324390269f65897",
   "execution_count": 23
  },
  {
   "cell_type": "code",
   "outputs": [
    {
     "name": "stdout",
     "output_type": "stream",
     "text": [
      "1/1 [==============================] - 0s 54ms/step\n"
     ]
    }
   ],
   "source": [
    "predictions = model.predict(X_test[1:2])"
   ],
   "metadata": {
    "collapsed": false,
    "ExecuteTime": {
     "end_time": "2024-08-05T03:49:03.093883Z",
     "start_time": "2024-08-05T03:49:02.962110Z"
    }
   },
   "id": "ccc9a532d391c8bc",
   "execution_count": 25
  },
  {
   "cell_type": "code",
   "outputs": [],
   "source": [
    "predicted_indices = np.argmax(predictions, axis=1)\n",
    "\n",
    "predicted_one_hot = np.zeros((predicted_indices.size, predictions.shape[1]))\n",
    "predicted_one_hot[np.arange(predicted_indices.size), predicted_indices] = 1\n",
    "\n",
    "predicted_labels = encoder.inverse_transform(predicted_one_hot)"
   ],
   "metadata": {
    "collapsed": false,
    "ExecuteTime": {
     "end_time": "2024-08-05T03:50:20.739510Z",
     "start_time": "2024-08-05T03:50:20.730662Z"
    }
   },
   "id": "c603e5ba4984445",
   "execution_count": 26
  },
  {
   "cell_type": "code",
   "outputs": [
    {
     "data": {
      "text/plain": "array([['birddog']], dtype=object)"
     },
     "execution_count": 27,
     "metadata": {},
     "output_type": "execute_result"
    }
   ],
   "source": [
    "predicted_labels"
   ],
   "metadata": {
    "collapsed": false,
    "ExecuteTime": {
     "end_time": "2024-08-05T03:50:25.926367Z",
     "start_time": "2024-08-05T03:50:25.914225Z"
    }
   },
   "id": "51abcc89b9ccd26a",
   "execution_count": 27
  },
  {
   "cell_type": "code",
   "outputs": [
    {
     "name": "stdout",
     "output_type": "stream",
     "text": [
      "INFO:tensorflow:Assets written to: LSTM_euler_temporal_dynamics/assets\n"
     ]
    },
    {
     "name": "stderr",
     "output_type": "stream",
     "text": [
      "INFO:tensorflow:Assets written to: LSTM_euler_temporal_dynamics/assets\n"
     ]
    }
   ],
   "source": [
    "model.save('LSTM_euler_temporal_dynamics', save_format='tf') "
   ],
   "metadata": {
    "collapsed": false,
    "ExecuteTime": {
     "end_time": "2024-08-05T03:55:18.670458Z",
     "start_time": "2024-08-05T03:55:13.386806Z"
    }
   },
   "id": "508b5be47d3ab2e9",
   "execution_count": 30
  },
  {
   "cell_type": "code",
   "outputs": [],
   "source": [],
   "metadata": {
    "collapsed": false
   },
   "id": "852b1fa56957b3d2"
  }
 ],
 "metadata": {
  "kernelspec": {
   "display_name": "Python 3",
   "language": "python",
   "name": "python3"
  },
  "language_info": {
   "codemirror_mode": {
    "name": "ipython",
    "version": 2
   },
   "file_extension": ".py",
   "mimetype": "text/x-python",
   "name": "python",
   "nbconvert_exporter": "python",
   "pygments_lexer": "ipython2",
   "version": "2.7.6"
  }
 },
 "nbformat": 4,
 "nbformat_minor": 5
}
