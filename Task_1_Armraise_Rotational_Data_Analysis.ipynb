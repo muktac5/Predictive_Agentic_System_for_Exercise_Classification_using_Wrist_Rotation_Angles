{
 "cells": [
  {
   "cell_type": "code",
   "execution_count": 9,
   "id": "initial_id",
   "metadata": {
    "collapsed": true,
    "ExecuteTime": {
     "end_time": "2024-08-04T03:55:39.714386Z",
     "start_time": "2024-08-04T03:55:39.706610Z"
    }
   },
   "outputs": [],
   "source": [
    "import pandas as pd\n",
    "import numpy as np\n",
    "import numpy.typing as npt\n",
    "import os\n",
    "import matplotlib.pyplot as plt\n",
    "from scipy.spatial.transform import Rotation"
   ]
  },
  {
   "cell_type": "code",
   "outputs": [
    {
     "name": "stdout",
     "output_type": "stream",
     "text": [
      "/Users/mm/Desktop/Myolab\r\n"
     ]
    }
   ],
   "source": [
    "!pwd"
   ],
   "metadata": {
    "collapsed": false,
    "ExecuteTime": {
     "end_time": "2024-08-04T03:55:40.294217Z",
     "start_time": "2024-08-04T03:55:40.150457Z"
    }
   },
   "id": "cbaee49f576d35c8",
   "execution_count": 10
  },
  {
   "cell_type": "code",
   "outputs": [],
   "source": [
    "directory_path=\"/Users/mm/Desktop/Myolab/imu_fitness_basic/armraise_v1.0/data\""
   ],
   "metadata": {
    "collapsed": false,
    "ExecuteTime": {
     "end_time": "2024-08-04T03:55:40.737577Z",
     "start_time": "2024-08-04T03:55:40.735266Z"
    }
   },
   "id": "d802291916ba9ac0",
   "execution_count": 11
  },
  {
   "cell_type": "code",
   "outputs": [],
   "source": [
    "armraise_df=[]\n",
    "for subdir, dirs, files in os.walk(directory_path):\n",
    "    for file in files:\n",
    "        if file.endswith('.csv'):\n",
    "            file_path = os.path.join(subdir, file)\n",
    "            df=pd.read_csv(file_path)\n",
    "            df.insert(0, 'exercise', \"armraise\") \n",
    "            if 'Unnamed: 0' in df.columns:\n",
    "                df.drop('Unnamed: 0', axis=1, inplace=True)\n",
    "                \n",
    "            armraise_df.append(df)"
   ],
   "metadata": {
    "collapsed": false,
    "ExecuteTime": {
     "end_time": "2024-08-03T20:49:54.166298Z",
     "start_time": "2024-08-03T20:49:53.865169Z"
    }
   },
   "id": "dac82090279c04d1",
   "execution_count": 4
  },
  {
   "cell_type": "code",
   "outputs": [],
   "source": [
    "armraise_df = pd.concat(armraise_df, ignore_index=True)"
   ],
   "metadata": {
    "collapsed": false,
    "ExecuteTime": {
     "end_time": "2024-08-03T20:49:54.852531Z",
     "start_time": "2024-08-03T20:49:54.839753Z"
    }
   },
   "id": "70da40271ebed87e",
   "execution_count": 5
  },
  {
   "cell_type": "code",
   "outputs": [
    {
     "data": {
      "text/plain": "   exercise  rep_count_from_intermediate  rep_count_from_start  \\\n0  armraise                     0.464286              0.000000   \n1  armraise                     0.481861              0.017575   \n2  armraise                     0.499241              0.034955   \n3  armraise                     0.516428              0.052142   \n4  armraise                     0.533423              0.069137   \n\n   ref_xy_rotation  time  rotation_matrix_m11  rotation_matrix_m12  \\\n0         5.247949  0.00            -0.424278             0.135893   \n1         5.247949  0.05            -0.433772             0.134866   \n2         5.247949  0.10            -0.453615             0.138319   \n3         5.247949  0.15            -0.474558             0.142960   \n4         5.247949  0.20            -0.498132             0.149700   \n\n   rotation_matrix_m13  rotation_matrix_m21  rotation_matrix_m22  \\\n0             0.895277            -0.097775            -0.989770   \n1             0.890872            -0.100751            -0.989794   \n2             0.880398            -0.109453            -0.989050   \n3             0.868538            -0.117201            -0.988200   \n4             0.854081            -0.125717            -0.987045   \n\n   rotation_matrix_m23  rotation_matrix_m31  rotation_matrix_m32  \\\n0             0.103900             0.900238            -0.043453   \n1             0.100785             0.895372            -0.046038   \n2             0.098995             0.884451            -0.051456   \n3             0.098619             0.872387            -0.054993   \n4             0.099683             0.857939            -0.057717   \n\n   rotation_matrix_m33  \n0             0.433225  \n1             0.442933  \n2             0.463788  \n3             0.485713  \n4             0.510499  ",
      "text/html": "<div>\n<style scoped>\n    .dataframe tbody tr th:only-of-type {\n        vertical-align: middle;\n    }\n\n    .dataframe tbody tr th {\n        vertical-align: top;\n    }\n\n    .dataframe thead th {\n        text-align: right;\n    }\n</style>\n<table border=\"1\" class=\"dataframe\">\n  <thead>\n    <tr style=\"text-align: right;\">\n      <th></th>\n      <th>exercise</th>\n      <th>rep_count_from_intermediate</th>\n      <th>rep_count_from_start</th>\n      <th>ref_xy_rotation</th>\n      <th>time</th>\n      <th>rotation_matrix_m11</th>\n      <th>rotation_matrix_m12</th>\n      <th>rotation_matrix_m13</th>\n      <th>rotation_matrix_m21</th>\n      <th>rotation_matrix_m22</th>\n      <th>rotation_matrix_m23</th>\n      <th>rotation_matrix_m31</th>\n      <th>rotation_matrix_m32</th>\n      <th>rotation_matrix_m33</th>\n    </tr>\n  </thead>\n  <tbody>\n    <tr>\n      <th>0</th>\n      <td>armraise</td>\n      <td>0.464286</td>\n      <td>0.000000</td>\n      <td>5.247949</td>\n      <td>0.00</td>\n      <td>-0.424278</td>\n      <td>0.135893</td>\n      <td>0.895277</td>\n      <td>-0.097775</td>\n      <td>-0.989770</td>\n      <td>0.103900</td>\n      <td>0.900238</td>\n      <td>-0.043453</td>\n      <td>0.433225</td>\n    </tr>\n    <tr>\n      <th>1</th>\n      <td>armraise</td>\n      <td>0.481861</td>\n      <td>0.017575</td>\n      <td>5.247949</td>\n      <td>0.05</td>\n      <td>-0.433772</td>\n      <td>0.134866</td>\n      <td>0.890872</td>\n      <td>-0.100751</td>\n      <td>-0.989794</td>\n      <td>0.100785</td>\n      <td>0.895372</td>\n      <td>-0.046038</td>\n      <td>0.442933</td>\n    </tr>\n    <tr>\n      <th>2</th>\n      <td>armraise</td>\n      <td>0.499241</td>\n      <td>0.034955</td>\n      <td>5.247949</td>\n      <td>0.10</td>\n      <td>-0.453615</td>\n      <td>0.138319</td>\n      <td>0.880398</td>\n      <td>-0.109453</td>\n      <td>-0.989050</td>\n      <td>0.098995</td>\n      <td>0.884451</td>\n      <td>-0.051456</td>\n      <td>0.463788</td>\n    </tr>\n    <tr>\n      <th>3</th>\n      <td>armraise</td>\n      <td>0.516428</td>\n      <td>0.052142</td>\n      <td>5.247949</td>\n      <td>0.15</td>\n      <td>-0.474558</td>\n      <td>0.142960</td>\n      <td>0.868538</td>\n      <td>-0.117201</td>\n      <td>-0.988200</td>\n      <td>0.098619</td>\n      <td>0.872387</td>\n      <td>-0.054993</td>\n      <td>0.485713</td>\n    </tr>\n    <tr>\n      <th>4</th>\n      <td>armraise</td>\n      <td>0.533423</td>\n      <td>0.069137</td>\n      <td>5.247949</td>\n      <td>0.20</td>\n      <td>-0.498132</td>\n      <td>0.149700</td>\n      <td>0.854081</td>\n      <td>-0.125717</td>\n      <td>-0.987045</td>\n      <td>0.099683</td>\n      <td>0.857939</td>\n      <td>-0.057717</td>\n      <td>0.510499</td>\n    </tr>\n  </tbody>\n</table>\n</div>"
     },
     "execution_count": 6,
     "metadata": {},
     "output_type": "execute_result"
    }
   ],
   "source": [
    "armraise_df.head()"
   ],
   "metadata": {
    "collapsed": false,
    "ExecuteTime": {
     "end_time": "2024-08-03T20:49:56.157428Z",
     "start_time": "2024-08-03T20:49:56.142410Z"
    }
   },
   "id": "53087c57f0dbd7d1",
   "execution_count": 6
  },
  {
   "cell_type": "code",
   "outputs": [
    {
     "data": {
      "text/plain": "(95636, 14)"
     },
     "execution_count": 7,
     "metadata": {},
     "output_type": "execute_result"
    }
   ],
   "source": [
    "armraise_df.shape"
   ],
   "metadata": {
    "collapsed": false,
    "ExecuteTime": {
     "end_time": "2024-08-03T20:49:58.437378Z",
     "start_time": "2024-08-03T20:49:58.433870Z"
    }
   },
   "id": "a729b13e8f716f7d",
   "execution_count": 7
  },
  {
   "cell_type": "code",
   "outputs": [
    {
     "data": {
      "text/plain": "Index(['exercise', 'rep_count_from_intermediate', 'rep_count_from_start',\n       'ref_xy_rotation', 'time', 'rotation_matrix_m11', 'rotation_matrix_m12',\n       'rotation_matrix_m13', 'rotation_matrix_m21', 'rotation_matrix_m22',\n       'rotation_matrix_m23', 'rotation_matrix_m31', 'rotation_matrix_m32',\n       'rotation_matrix_m33'],\n      dtype='object')"
     },
     "execution_count": 8,
     "metadata": {},
     "output_type": "execute_result"
    }
   ],
   "source": [
    "armraise_df.columns"
   ],
   "metadata": {
    "collapsed": false,
    "ExecuteTime": {
     "end_time": "2024-08-03T20:50:04.989213Z",
     "start_time": "2024-08-03T20:50:04.981692Z"
    }
   },
   "id": "a5ea431faa0a869a",
   "execution_count": 8
  },
  {
   "cell_type": "markdown",
   "source": [
    "Check for Null Values"
   ],
   "metadata": {
    "collapsed": false
   },
   "id": "a985adc658b93916"
  },
  {
   "cell_type": "code",
   "outputs": [
    {
     "data": {
      "text/plain": "exercise                       0\nrep_count_from_intermediate    0\nrep_count_from_start           0\nref_xy_rotation                0\ntime                           0\nrotation_matrix_m11            0\nrotation_matrix_m12            0\nrotation_matrix_m13            0\nrotation_matrix_m21            0\nrotation_matrix_m22            0\nrotation_matrix_m23            0\nrotation_matrix_m31            0\nrotation_matrix_m32            0\nrotation_matrix_m33            0\ndtype: int64"
     },
     "execution_count": 8,
     "metadata": {},
     "output_type": "execute_result"
    }
   ],
   "source": [
    "armraise_df.isnull().sum()"
   ],
   "metadata": {
    "collapsed": false,
    "ExecuteTime": {
     "end_time": "2024-08-03T19:19:51.193805Z",
     "start_time": "2024-08-03T19:19:51.184723Z"
    }
   },
   "id": "b7863842fb852423",
   "execution_count": 8
  },
  {
   "cell_type": "markdown",
   "source": [
    "Check for Outliers at each exercise level:\n",
    " \n",
    "In this context, outliers mean an abnormal posture or movements with respect to that particular exercise. Need to identify them to ensure proper classification.\n",
    "\n",
    "1. Based on a cursory reading, I understand that rotational matrices in general are orthogonal and have determinant close to 1 or exactly 1, so I plan on checking for any deviations to check for data corruption."
   ],
   "metadata": {
    "collapsed": false
   },
   "id": "42f37d12c0955ee7"
  },
  {
   "cell_type": "code",
   "outputs": [],
   "source": [
    "#matrix operations\n",
    "def calculate_determinant(row):\n",
    "    matrix = row.values.reshape(3, 3)\n",
    "    return np.linalg.det(matrix)\n",
    "\n",
    "def frobenius_norm(row):\n",
    "    matrix = row.values.reshape(3, 3) # Reshape the row to form a 3x3 matrix\n",
    "    return np.linalg.norm(matrix, 'fro') # Frobenius norm"
   ],
   "metadata": {
    "collapsed": false,
    "ExecuteTime": {
     "end_time": "2024-08-03T19:19:51.196537Z",
     "start_time": "2024-08-03T19:19:51.194386Z"
    }
   },
   "id": "d17985e7f1a0f013",
   "execution_count": 9
  },
  {
   "cell_type": "code",
   "outputs": [],
   "source": [
    "rotation_matrix_labels = [\n",
    "        \"rotation_matrix_m11\",\n",
    "        \"rotation_matrix_m12\",\n",
    "        \"rotation_matrix_m13\",\n",
    "        \"rotation_matrix_m21\",\n",
    "        \"rotation_matrix_m22\",\n",
    "        \"rotation_matrix_m23\",\n",
    "        \"rotation_matrix_m31\",\n",
    "        \"rotation_matrix_m32\",\n",
    "        \"rotation_matrix_m33\",\n",
    "    ]"
   ],
   "metadata": {
    "collapsed": false,
    "ExecuteTime": {
     "end_time": "2024-08-03T19:19:51.199584Z",
     "start_time": "2024-08-03T19:19:51.198177Z"
    }
   },
   "id": "b1e755e68421e915",
   "execution_count": 10
  },
  {
   "cell_type": "code",
   "outputs": [
    {
     "name": "stdout",
     "output_type": "stream",
     "text": [
      "Detected outliers:  (0, 15)\n",
      "Empty DataFrame\n",
      "Columns: [exercise, rep_count_from_intermediate, rep_count_from_start, ref_xy_rotation, time, rotation_matrix_m11, rotation_matrix_m12, rotation_matrix_m13, rotation_matrix_m21, rotation_matrix_m22, rotation_matrix_m23, rotation_matrix_m31, rotation_matrix_m32, rotation_matrix_m33, determinant]\n",
      "Index: []\n"
     ]
    }
   ],
   "source": [
    "armraise_df['determinant'] = armraise_df[rotation_matrix_labels ].apply(calculate_determinant, axis=1)\n",
    "outliers = armraise_df[np.abs(armraise_df['determinant'] - 1) > 0.05] #deviation from determinant 1\n",
    "\n",
    "print(\"Detected outliers: \", outliers.shape)\n",
    "print(outliers)"
   ],
   "metadata": {
    "collapsed": false,
    "ExecuteTime": {
     "end_time": "2024-08-03T19:19:51.479950Z",
     "start_time": "2024-08-03T19:19:51.200022Z"
    }
   },
   "id": "416c361d0220cc7b",
   "execution_count": 11
  },
  {
   "cell_type": "markdown",
   "source": [
    "The rotational matrices are orthogonal, hence no data corruption. Next,\n",
    "\n",
    "2. To ensure consistency per exercise, we can check the outliers using frobenius norm where we compare each rotational matrix with an average rotational matrix to identify the deviation. \n",
    " Large Norm values => Incorrect form or Erratic movements\n",
    " \n",
    " Ideally we need small and consistent norm values to ensure consistency and alignment in the movements for the exercise."
   ],
   "metadata": {
    "collapsed": false
   },
   "id": "7002c8dd6bc40c2d"
  },
  {
   "cell_type": "code",
   "outputs": [],
   "source": [
    "armraise_df['frobenius_norm'] = armraise_df[rotation_matrix_labels].apply(frobenius_norm, axis=1)"
   ],
   "metadata": {
    "collapsed": false,
    "ExecuteTime": {
     "end_time": "2024-08-03T19:19:51.725730Z",
     "start_time": "2024-08-03T19:19:51.480524Z"
    }
   },
   "id": "d37fa77b34498d2e",
   "execution_count": 12
  },
  {
   "cell_type": "code",
   "outputs": [
    {
     "name": "stdout",
     "output_type": "stream",
     "text": [
      "count    9.563600e+04\n",
      "mean     1.732051e+00\n",
      "std      1.504582e-07\n",
      "min      1.732049e+00\n",
      "25%      1.732051e+00\n",
      "50%      1.732051e+00\n",
      "75%      1.732051e+00\n",
      "max      1.732052e+00\n",
      "Name: frobenius_norm, dtype: float64\n"
     ]
    }
   ],
   "source": [
    "print(armraise_df['frobenius_norm'].describe())"
   ],
   "metadata": {
    "collapsed": false,
    "ExecuteTime": {
     "end_time": "2024-08-03T19:19:51.732675Z",
     "start_time": "2024-08-03T19:19:51.726406Z"
    }
   },
   "id": "88b9e722612ef90c",
   "execution_count": 13
  },
  {
   "cell_type": "markdown",
   "source": [
    "The standard deviation between the norms is too minute, hence there is uniformity across all the movements for the arm_raise exercise. This is good, but we must check for overfitting later. Let's check for more inconsistencies once we make more sense of the features. But for now, the data seems to be from inconsistencies, missing values and outliers."
   ],
   "metadata": {
    "collapsed": false
   },
   "id": "b6abf0dee5c7e2d"
  },
  {
   "cell_type": "markdown",
   "source": [
    "Exploratory Data Analysis: Perform an initial analysis to understand the data distribution, identify patterns, and uncover insights that will inform feature engineering."
   ],
   "metadata": {
    "collapsed": false
   },
   "id": "57648dec3cf32e29"
  },
  {
   "cell_type": "code",
   "outputs": [],
   "source": [
    "armraise_df=armraise_df.drop([\"frobenius_norm\",\"determinant\"],axis=1)"
   ],
   "metadata": {
    "collapsed": false,
    "ExecuteTime": {
     "end_time": "2024-08-03T19:20:18.008451Z",
     "start_time": "2024-08-03T19:20:18.001997Z"
    }
   },
   "id": "8de2a8a47156c81",
   "execution_count": 16
  },
  {
   "cell_type": "code",
   "outputs": [],
   "source": [
    "armraise_df.to_csv('armraise_data.csv', index=False)"
   ],
   "metadata": {
    "collapsed": false,
    "ExecuteTime": {
     "end_time": "2024-08-03T19:20:55.692866Z",
     "start_time": "2024-08-03T19:20:54.945017Z"
    }
   },
   "id": "8dcdb4e9faaf5a93",
   "execution_count": 18
  },
  {
   "cell_type": "code",
   "outputs": [],
   "source": [],
   "metadata": {
    "collapsed": false
   },
   "id": "138f021d880e1255"
  }
 ],
 "metadata": {
  "kernelspec": {
   "display_name": "Python 3",
   "language": "python",
   "name": "python3"
  },
  "language_info": {
   "codemirror_mode": {
    "name": "ipython",
    "version": 2
   },
   "file_extension": ".py",
   "mimetype": "text/x-python",
   "name": "python",
   "nbconvert_exporter": "python",
   "pygments_lexer": "ipython2",
   "version": "2.7.6"
  }
 },
 "nbformat": 4,
 "nbformat_minor": 5
}
