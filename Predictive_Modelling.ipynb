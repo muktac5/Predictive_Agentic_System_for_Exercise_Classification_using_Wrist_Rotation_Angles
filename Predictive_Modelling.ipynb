{
 "cells": [
  {
   "cell_type": "code",
   "execution_count": 1,
   "id": "initial_id",
   "metadata": {
    "collapsed": true,
    "ExecuteTime": {
     "end_time": "2024-08-05T03:53:29.631809Z",
     "start_time": "2024-08-05T03:53:29.449457Z"
    }
   },
   "outputs": [],
   "source": [
    "import pandas as pd\n",
    "import numpy as np\n",
    "from sklearn.model_selection import train_test_split\n",
    "from sklearn.preprocessing import StandardScaler\n",
    "from sklearn.ensemble import RandomForestClassifier\n",
    "from sklearn.model_selection import GridSearchCV\n",
    "from sklearn.metrics import accuracy_score, classification_report\n",
    "from scipy.stats import skew, kurtosis\n",
    "from scipy.fft import fft\n",
    "from sklearn.svm import SVC"
   ]
  },
  {
   "cell_type": "code",
   "outputs": [],
   "source": [
    "data_df=pd.read_csv('/Users/mm/Desktop/Myolab/prepared_data.csv')"
   ],
   "metadata": {
    "collapsed": false,
    "ExecuteTime": {
     "end_time": "2024-08-05T03:53:30.277573Z",
     "start_time": "2024-08-05T03:53:29.632669Z"
    }
   },
   "id": "8fe7c629a96f7b8a",
   "execution_count": 2
  },
  {
   "cell_type": "code",
   "outputs": [
    {
     "data": {
      "text/plain": "Index(['exercise', 'rep_count_from_intermediate', 'rep_count_from_start',\n       'ref_xy_rotation', 'time', 'euler_X', 'euler_Y', 'euler_Z'],\n      dtype='object')"
     },
     "execution_count": 3,
     "metadata": {},
     "output_type": "execute_result"
    }
   ],
   "source": [
    "data_df.columns"
   ],
   "metadata": {
    "collapsed": false,
    "ExecuteTime": {
     "end_time": "2024-08-05T03:53:30.286574Z",
     "start_time": "2024-08-05T03:53:30.279367Z"
    }
   },
   "id": "a94267f41f24937",
   "execution_count": 3
  },
  {
   "cell_type": "code",
   "outputs": [
    {
     "data": {
      "text/plain": "(1188661, 8)"
     },
     "execution_count": 4,
     "metadata": {},
     "output_type": "execute_result"
    }
   ],
   "source": [
    "data_df.shape"
   ],
   "metadata": {
    "collapsed": false,
    "ExecuteTime": {
     "end_time": "2024-08-05T03:53:30.296701Z",
     "start_time": "2024-08-05T03:53:30.291696Z"
    }
   },
   "id": "5f0b294599a174f1",
   "execution_count": 4
  },
  {
   "cell_type": "code",
   "outputs": [],
   "source": [
    "def process_chunk(chunk):\n",
    "    # Common processing for all Euler angles\n",
    "    for angle in ['euler_X', 'euler_Y', 'euler_Z']:\n",
    "        chunk[f'{angle}_diff'] = chunk[angle].diff().fillna(0)\n",
    "        chunk[f'{angle}_roll_mean'] = chunk[angle].rolling(window=5).mean().fillna(method='bfill')\n",
    "        chunk[f'{angle}_fft'] = np.abs(fft(chunk[angle].to_numpy()))\n",
    "        chunk[f'{angle}_skew'] = chunk[angle].rolling(window=5).skew().fillna(method='bfill')\n",
    "        chunk[f'{angle}_kurt'] = chunk[angle].rolling(window=5).kurt().fillna(method='bfill')\n",
    "\n",
    "    return chunk\n",
    "\n",
    "chunk_size = 100000  # Adjust chunk size based on your system's memory\n",
    "chunks = [process_chunk(chunk) for chunk in np.array_split(data_df, len(data_df) // chunk_size + 1)]\n",
    "\n",
    "# Concatenate all processed chunks back into a single DataFrame\n",
    "data_df_processed = pd.concat(chunks, ignore_index=True)"
   ],
   "metadata": {
    "collapsed": false,
    "ExecuteTime": {
     "end_time": "2024-08-05T03:53:30.813159Z",
     "start_time": "2024-08-05T03:53:30.298836Z"
    }
   },
   "id": "f586d38599d99848",
   "execution_count": 5
  },
  {
   "cell_type": "code",
   "outputs": [
    {
     "data": {
      "text/plain": "Index(['exercise', 'rep_count_from_intermediate', 'rep_count_from_start',\n       'ref_xy_rotation', 'time', 'euler_X', 'euler_Y', 'euler_Z',\n       'euler_X_diff', 'euler_X_roll_mean', 'euler_X_fft', 'euler_X_skew',\n       'euler_X_kurt', 'euler_Y_diff', 'euler_Y_roll_mean', 'euler_Y_fft',\n       'euler_Y_skew', 'euler_Y_kurt', 'euler_Z_diff', 'euler_Z_roll_mean',\n       'euler_Z_fft', 'euler_Z_skew', 'euler_Z_kurt'],\n      dtype='object')"
     },
     "execution_count": 6,
     "metadata": {},
     "output_type": "execute_result"
    }
   ],
   "source": [
    "data_df_processed.columns"
   ],
   "metadata": {
    "collapsed": false,
    "ExecuteTime": {
     "end_time": "2024-08-05T03:53:30.815888Z",
     "start_time": "2024-08-05T03:53:30.813761Z"
    }
   },
   "id": "255974e9789e9ce1",
   "execution_count": 6
  },
  {
   "cell_type": "code",
   "outputs": [],
   "source": [
    "feature_columns = [\n",
    "    'rep_count_from_intermediate', 'rep_count_from_start',\n",
    "       'ref_xy_rotation', 'time', 'euler_X', 'euler_Y', 'euler_Z',\n",
    "       'euler_X_diff', 'euler_X_roll_mean', 'euler_X_fft', 'euler_X_skew',\n",
    "       'euler_X_kurt', 'euler_Y_diff', 'euler_Y_roll_mean', 'euler_Y_fft',\n",
    "       'euler_Y_skew', 'euler_Y_kurt', 'euler_Z_diff', 'euler_Z_roll_mean',\n",
    "       'euler_Z_fft', 'euler_Z_skew', 'euler_Z_kurt'\n",
    "]\n",
    "X = data_df_processed[feature_columns]\n",
    "y = data_df_processed['exercise']\n",
    "\n",
    "X_train, X_test, y_train, y_test = train_test_split(X, y, test_size=0.3, random_state=42)"
   ],
   "metadata": {
    "collapsed": false,
    "ExecuteTime": {
     "end_time": "2024-08-05T03:53:31.191714Z",
     "start_time": "2024-08-05T03:53:30.816418Z"
    }
   },
   "id": "8e8b290b6218814e",
   "execution_count": 7
  },
  {
   "cell_type": "code",
   "outputs": [],
   "source": [
    "scaler = StandardScaler()\n",
    "\n",
    "X_train_scaled = scaler.fit_transform(X_train)\n",
    "X_test_scaled = scaler.transform(X_test)"
   ],
   "metadata": {
    "collapsed": false,
    "ExecuteTime": {
     "end_time": "2024-08-05T03:53:31.409767Z",
     "start_time": "2024-08-05T03:53:31.192478Z"
    }
   },
   "id": "842fca39a959709f",
   "execution_count": 8
  },
  {
   "cell_type": "code",
   "outputs": [
    {
     "data": {
      "text/plain": "RandomForestClassifier(max_depth=10, min_samples_leaf=4, min_samples_split=10,\n                       random_state=42)",
      "text/html": "<style>#sk-container-id-1 {color: black;}#sk-container-id-1 pre{padding: 0;}#sk-container-id-1 div.sk-toggleable {background-color: white;}#sk-container-id-1 label.sk-toggleable__label {cursor: pointer;display: block;width: 100%;margin-bottom: 0;padding: 0.3em;box-sizing: border-box;text-align: center;}#sk-container-id-1 label.sk-toggleable__label-arrow:before {content: \"▸\";float: left;margin-right: 0.25em;color: #696969;}#sk-container-id-1 label.sk-toggleable__label-arrow:hover:before {color: black;}#sk-container-id-1 div.sk-estimator:hover label.sk-toggleable__label-arrow:before {color: black;}#sk-container-id-1 div.sk-toggleable__content {max-height: 0;max-width: 0;overflow: hidden;text-align: left;background-color: #f0f8ff;}#sk-container-id-1 div.sk-toggleable__content pre {margin: 0.2em;color: black;border-radius: 0.25em;background-color: #f0f8ff;}#sk-container-id-1 input.sk-toggleable__control:checked~div.sk-toggleable__content {max-height: 200px;max-width: 100%;overflow: auto;}#sk-container-id-1 input.sk-toggleable__control:checked~label.sk-toggleable__label-arrow:before {content: \"▾\";}#sk-container-id-1 div.sk-estimator input.sk-toggleable__control:checked~label.sk-toggleable__label {background-color: #d4ebff;}#sk-container-id-1 div.sk-label input.sk-toggleable__control:checked~label.sk-toggleable__label {background-color: #d4ebff;}#sk-container-id-1 input.sk-hidden--visually {border: 0;clip: rect(1px 1px 1px 1px);clip: rect(1px, 1px, 1px, 1px);height: 1px;margin: -1px;overflow: hidden;padding: 0;position: absolute;width: 1px;}#sk-container-id-1 div.sk-estimator {font-family: monospace;background-color: #f0f8ff;border: 1px dotted black;border-radius: 0.25em;box-sizing: border-box;margin-bottom: 0.5em;}#sk-container-id-1 div.sk-estimator:hover {background-color: #d4ebff;}#sk-container-id-1 div.sk-parallel-item::after {content: \"\";width: 100%;border-bottom: 1px solid gray;flex-grow: 1;}#sk-container-id-1 div.sk-label:hover label.sk-toggleable__label {background-color: #d4ebff;}#sk-container-id-1 div.sk-serial::before {content: \"\";position: absolute;border-left: 1px solid gray;box-sizing: border-box;top: 0;bottom: 0;left: 50%;z-index: 0;}#sk-container-id-1 div.sk-serial {display: flex;flex-direction: column;align-items: center;background-color: white;padding-right: 0.2em;padding-left: 0.2em;position: relative;}#sk-container-id-1 div.sk-item {position: relative;z-index: 1;}#sk-container-id-1 div.sk-parallel {display: flex;align-items: stretch;justify-content: center;background-color: white;position: relative;}#sk-container-id-1 div.sk-item::before, #sk-container-id-1 div.sk-parallel-item::before {content: \"\";position: absolute;border-left: 1px solid gray;box-sizing: border-box;top: 0;bottom: 0;left: 50%;z-index: -1;}#sk-container-id-1 div.sk-parallel-item {display: flex;flex-direction: column;z-index: 1;position: relative;background-color: white;}#sk-container-id-1 div.sk-parallel-item:first-child::after {align-self: flex-end;width: 50%;}#sk-container-id-1 div.sk-parallel-item:last-child::after {align-self: flex-start;width: 50%;}#sk-container-id-1 div.sk-parallel-item:only-child::after {width: 0;}#sk-container-id-1 div.sk-dashed-wrapped {border: 1px dashed gray;margin: 0 0.4em 0.5em 0.4em;box-sizing: border-box;padding-bottom: 0.4em;background-color: white;}#sk-container-id-1 div.sk-label label {font-family: monospace;font-weight: bold;display: inline-block;line-height: 1.2em;}#sk-container-id-1 div.sk-label-container {text-align: center;}#sk-container-id-1 div.sk-container {/* jupyter's `normalize.less` sets `[hidden] { display: none; }` but bootstrap.min.css set `[hidden] { display: none !important; }` so we also need the `!important` here to be able to override the default hidden behavior on the sphinx rendered scikit-learn.org. See: https://github.com/scikit-learn/scikit-learn/issues/21755 */display: inline-block !important;position: relative;}#sk-container-id-1 div.sk-text-repr-fallback {display: none;}</style><div id=\"sk-container-id-1\" class=\"sk-top-container\"><div class=\"sk-text-repr-fallback\"><pre>RandomForestClassifier(max_depth=10, min_samples_leaf=4, min_samples_split=10,\n                       random_state=42)</pre><b>In a Jupyter environment, please rerun this cell to show the HTML representation or trust the notebook. <br />On GitHub, the HTML representation is unable to render, please try loading this page with nbviewer.org.</b></div><div class=\"sk-container\" hidden><div class=\"sk-item\"><div class=\"sk-estimator sk-toggleable\"><input class=\"sk-toggleable__control sk-hidden--visually\" id=\"sk-estimator-id-1\" type=\"checkbox\" checked><label for=\"sk-estimator-id-1\" class=\"sk-toggleable__label sk-toggleable__label-arrow\">RandomForestClassifier</label><div class=\"sk-toggleable__content\"><pre>RandomForestClassifier(max_depth=10, min_samples_leaf=4, min_samples_split=10,\n                       random_state=42)</pre></div></div></div></div></div>"
     },
     "execution_count": 9,
     "metadata": {},
     "output_type": "execute_result"
    }
   ],
   "source": [
    "classifier = RandomForestClassifier(\n",
    "    n_estimators=100,      # More trees (consider increasing to 200 or 300)\n",
    "    max_features='sqrt',   # Maximum number of features considered for splitting a node\n",
    "    max_depth=10,          # Limit the depth of trees\n",
    "    min_samples_split=10,  # Minimum number of samples required to split an internal node\n",
    "    min_samples_leaf=4,    # Minimum number of samples required to be at a leaf node\n",
    "    bootstrap=True,        # Use bootstrapping\n",
    "    random_state=42        # For reproducibility\n",
    ")\n",
    "classifier.fit(X_train, y_train)"
   ],
   "metadata": {
    "collapsed": false,
    "ExecuteTime": {
     "end_time": "2024-08-05T03:58:05.355696Z",
     "start_time": "2024-08-05T03:53:31.411254Z"
    }
   },
   "id": "1a579c4f431ef419",
   "execution_count": 9
  },
  {
   "cell_type": "code",
   "outputs": [
    {
     "name": "stdout",
     "output_type": "stream",
     "text": [
      "Training Accuracy: 0.6773846179731798\n",
      "                precision    recall  f1-score   support\n",
      "\n",
      "      armraise       0.82      0.73      0.77     67071\n",
      "     bicepcurl       0.76      0.96      0.85     71118\n",
      "       birddog       0.68      0.98      0.80    260136\n",
      "        burpee       0.61      0.49      0.54     91409\n",
      "        crunch       0.90      0.31      0.46     42568\n",
      "    hammercurl       0.48      0.68      0.56     87930\n",
      " overheadpress       0.78      0.35      0.48     60226\n",
      "        pushup       0.73      0.44      0.55     52011\n",
      "tricepkickback       0.93      0.16      0.28     35486\n",
      "           vup       0.75      0.40      0.52     64107\n",
      "\n",
      "      accuracy                           0.68    832062\n",
      "     macro avg       0.75      0.55      0.58    832062\n",
      "  weighted avg       0.71      0.68      0.65    832062\n"
     ]
    }
   ],
   "source": [
    "y_train_pred = classifier.predict(X_train)\n",
    "train_accuracy = accuracy_score(y_train, y_train_pred)\n",
    "print(\"Training Accuracy:\", train_accuracy)\n",
    "print(classification_report(y_train, y_train_pred))"
   ],
   "metadata": {
    "collapsed": false,
    "ExecuteTime": {
     "end_time": "2024-08-05T03:58:29.272659Z",
     "start_time": "2024-08-05T03:58:05.361599Z"
    }
   },
   "id": "40614e3a46a60642",
   "execution_count": 10
  },
  {
   "cell_type": "code",
   "outputs": [
    {
     "name": "stdout",
     "output_type": "stream",
     "text": [
      "Accuracy: 0.672803344933665\n",
      "                precision    recall  f1-score   support\n",
      "\n",
      "      armraise       0.82      0.73      0.77     28565\n",
      "     bicepcurl       0.75      0.95      0.84     30146\n",
      "       birddog       0.68      0.97      0.80    111662\n",
      "        burpee       0.59      0.48      0.53     38972\n",
      "        crunch       0.89      0.29      0.44     18183\n",
      "    hammercurl       0.48      0.67      0.56     38132\n",
      " overheadpress       0.78      0.34      0.48     25820\n",
      "        pushup       0.73      0.43      0.54     22295\n",
      "tricepkickback       0.92      0.16      0.27     15271\n",
      "           vup       0.74      0.40      0.52     27553\n",
      "\n",
      "      accuracy                           0.67    356599\n",
      "     macro avg       0.74      0.54      0.58    356599\n",
      "  weighted avg       0.70      0.67      0.64    356599\n"
     ]
    }
   ],
   "source": [
    "y_pred = classifier.predict(X_test)\n",
    "print(\"Accuracy:\", accuracy_score(y_test, y_pred))\n",
    "print(classification_report(y_test, y_pred))"
   ],
   "metadata": {
    "collapsed": false,
    "ExecuteTime": {
     "end_time": "2024-08-05T03:58:39.134790Z",
     "start_time": "2024-08-05T03:58:29.273877Z"
    }
   },
   "id": "79be14be7bfda3cf",
   "execution_count": 11
  },
  {
   "cell_type": "code",
   "outputs": [],
   "source": [
    "param_grid = {\n",
    "    'n_estimators': [100, 200, 300],  # More trees may improve performance\n",
    "    'max_features': ['sqrt', 'log2'],  # Number of features to consider when looking for the best split\n",
    "    'max_depth': [10, 20, 30, None],  # Maximum number of levels in each decision tree\n",
    "    'min_samples_split': [2, 10, 20],  # Minimum number of data points placed in a node before the node is split\n",
    "    'min_samples_leaf': [1, 4, 10],  # Minimum number of data points allowed in a leaf node\n",
    "    'bootstrap': [True, False]  # Method for sampling data points (with or without replacement)\n",
    "}"
   ],
   "metadata": {
    "collapsed": false,
    "ExecuteTime": {
     "end_time": "2024-08-05T03:58:39.140652Z",
     "start_time": "2024-08-05T03:58:39.137026Z"
    }
   },
   "id": "936b58d3e25f4148",
   "execution_count": 12
  }
 ],
 "metadata": {
  "kernelspec": {
   "display_name": "Python 3",
   "language": "python",
   "name": "python3"
  },
  "language_info": {
   "codemirror_mode": {
    "name": "ipython",
    "version": 2
   },
   "file_extension": ".py",
   "mimetype": "text/x-python",
   "name": "python",
   "nbconvert_exporter": "python",
   "pygments_lexer": "ipython2",
   "version": "2.7.6"
  }
 },
 "nbformat": 4,
 "nbformat_minor": 5
}
