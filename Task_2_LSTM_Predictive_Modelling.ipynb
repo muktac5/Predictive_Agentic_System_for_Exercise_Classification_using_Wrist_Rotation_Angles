{
 "cells": [
  {
   "cell_type": "code",
   "outputs": [],
   "source": [
    "import pandas as pd\n",
    "import numpy as np\n",
    "from sklearn.preprocessing import OneHotEncoder, LabelEncoder\n",
    "from sklearn.preprocessing import StandardScaler\n",
    "from sklearn.model_selection import train_test_split\n",
    "from tensorflow.keras.models import Sequential\n",
    "from tensorflow.keras.layers import LSTM, Dense, Dropout\n",
    "from scipy.fft import fft\n",
    "from sklearn.svm import SVC"
   ],
   "metadata": {
    "collapsed": false,
    "ExecuteTime": {
     "end_time": "2024-08-05T03:23:34.550068Z",
     "start_time": "2024-08-05T03:23:31.564379Z"
    }
   },
   "id": "685f6084cad92d8",
   "execution_count": 1
  },
  {
   "cell_type": "code",
   "outputs": [],
   "source": [
    "data_df=pd.read_csv('/Users/mm/Desktop/Myolab/prepared_data.csv')"
   ],
   "metadata": {
    "collapsed": false,
    "ExecuteTime": {
     "end_time": "2024-08-05T03:23:35.197222Z",
     "start_time": "2024-08-05T03:23:34.551688Z"
    }
   },
   "id": "8a55b8b2c1ca11b1",
   "execution_count": 2
  },
  {
   "cell_type": "code",
   "outputs": [
    {
     "data": {
      "text/plain": "Index(['exercise', 'rep_count_from_intermediate', 'rep_count_from_start',\n       'ref_xy_rotation', 'time', 'euler_X', 'euler_Y', 'euler_Z'],\n      dtype='object')"
     },
     "execution_count": 3,
     "metadata": {},
     "output_type": "execute_result"
    }
   ],
   "source": [
    "data_df.columns"
   ],
   "metadata": {
    "collapsed": false,
    "ExecuteTime": {
     "end_time": "2024-08-05T03:23:35.201756Z",
     "start_time": "2024-08-05T03:23:35.197938Z"
    }
   },
   "id": "85dd4be20c2c1f13",
   "execution_count": 3
  },
  {
   "cell_type": "code",
   "outputs": [
    {
     "data": {
      "text/plain": "(1188661, 8)"
     },
     "execution_count": 4,
     "metadata": {},
     "output_type": "execute_result"
    }
   ],
   "source": [
    "data_df.shape"
   ],
   "metadata": {
    "collapsed": false,
    "ExecuteTime": {
     "end_time": "2024-08-05T03:23:35.205365Z",
     "start_time": "2024-08-05T03:23:35.203259Z"
    }
   },
   "id": "1e6a7085dc8761ce",
   "execution_count": 4
  },
  {
   "cell_type": "code",
   "outputs": [],
   "source": [
    "numerical_features = data_df[['euler_X', 'euler_Y','euler_Z','rep_count_from_intermediate', 'ref_xy_rotation',]]  \n",
    "categorical_features = data_df['exercise']  # Target variable\n",
    "\n",
    "# Encode the categorical target variable\n",
    "encoder = OneHotEncoder(sparse_output=False)\n",
    "target_encoded = encoder.fit_transform(categorical_features.values.reshape(-1, 1))"
   ],
   "metadata": {
    "collapsed": false,
    "ExecuteTime": {
     "end_time": "2024-08-05T03:23:35.356542Z",
     "start_time": "2024-08-05T03:23:35.205828Z"
    }
   },
   "id": "46ef149e672ff9e4",
   "execution_count": 5
  },
  {
   "cell_type": "code",
   "outputs": [],
   "source": [
    "scaler = StandardScaler()\n",
    "numerical_features_scaled = scaler.fit_transform(numerical_features)"
   ],
   "metadata": {
    "collapsed": false,
    "ExecuteTime": {
     "end_time": "2024-08-05T03:23:35.412972Z",
     "start_time": "2024-08-05T03:23:35.358820Z"
    }
   },
   "id": "f582d3e09917f0c4",
   "execution_count": 6
  },
  {
   "cell_type": "code",
   "outputs": [],
   "source": [
    "num_samples = numerical_features_scaled.shape[0]\n",
    "num_time_steps = 1 \n",
    "num_features = numerical_features_scaled.shape[1]\n",
    "\n",
    "X_reshaped = numerical_features_scaled.reshape((num_samples, num_time_steps, num_features))"
   ],
   "metadata": {
    "collapsed": false,
    "ExecuteTime": {
     "end_time": "2024-08-05T03:23:35.415623Z",
     "start_time": "2024-08-05T03:23:35.413778Z"
    }
   },
   "id": "d1723e76e4f94ce6",
   "execution_count": 7
  },
  {
   "cell_type": "code",
   "outputs": [],
   "source": [
    "X_train, X_test, y_train, y_test = train_test_split(X_reshaped, target_encoded, test_size=0.2, random_state=42)"
   ],
   "metadata": {
    "collapsed": false,
    "ExecuteTime": {
     "end_time": "2024-08-05T03:23:35.574126Z",
     "start_time": "2024-08-05T03:23:35.416047Z"
    }
   },
   "id": "2ddc4dc4b633b3a2",
   "execution_count": 8
  },
  {
   "cell_type": "code",
   "outputs": [],
   "source": [
    "model = Sequential([\n",
    "    LSTM(50, return_sequences=True, input_shape=(num_time_steps, num_features)),\n",
    "    Dropout(0.2),\n",
    "    LSTM(50),\n",
    "    Dropout(0.2),\n",
    "    Dense(target_encoded.shape[1], activation='softmax') \n",
    "])\n",
    "\n",
    "model.compile(optimizer='adam', loss='categorical_crossentropy', metrics=['accuracy'])"
   ],
   "metadata": {
    "collapsed": false,
    "ExecuteTime": {
     "end_time": "2024-08-05T03:23:35.840469Z",
     "start_time": "2024-08-05T03:23:35.574908Z"
    }
   },
   "id": "a39b93a8f765c8e0",
   "execution_count": 9
  },
  {
   "cell_type": "code",
   "outputs": [
    {
     "name": "stdout",
     "output_type": "stream",
     "text": [
      "Epoch 1/30\n",
      "29717/29717 [==============================] - 39s 1ms/step - loss: 1.1612 - accuracy: 0.5329 - val_loss: 0.9397 - val_accuracy: 0.6102\n",
      "Epoch 2/30\n",
      "29717/29717 [==============================] - 36s 1ms/step - loss: 1.0132 - accuracy: 0.5805 - val_loss: 0.8911 - val_accuracy: 0.6293\n",
      "Epoch 3/30\n",
      "29717/29717 [==============================] - 37s 1ms/step - loss: 0.9794 - accuracy: 0.5942 - val_loss: 0.8652 - val_accuracy: 0.6413\n",
      "Epoch 4/30\n",
      "29717/29717 [==============================] - 36s 1ms/step - loss: 0.9597 - accuracy: 0.6030 - val_loss: 0.8462 - val_accuracy: 0.6500\n",
      "Epoch 5/30\n",
      "29717/29717 [==============================] - 36s 1ms/step - loss: 0.9452 - accuracy: 0.6091 - val_loss: 0.8312 - val_accuracy: 0.6582\n",
      "Epoch 6/30\n",
      "29717/29717 [==============================] - 36s 1ms/step - loss: 0.9357 - accuracy: 0.6135 - val_loss: 0.8187 - val_accuracy: 0.6662\n",
      "Epoch 7/30\n",
      "29717/29717 [==============================] - 36s 1ms/step - loss: 0.9266 - accuracy: 0.6174 - val_loss: 0.8102 - val_accuracy: 0.6693\n",
      "Epoch 8/30\n",
      "29717/29717 [==============================] - 36s 1ms/step - loss: 0.9188 - accuracy: 0.6212 - val_loss: 0.8014 - val_accuracy: 0.6722\n",
      "Epoch 9/30\n",
      "29717/29717 [==============================] - 35s 1ms/step - loss: 0.9130 - accuracy: 0.6236 - val_loss: 0.7902 - val_accuracy: 0.6794\n",
      "Epoch 10/30\n",
      "29717/29717 [==============================] - 36s 1ms/step - loss: 0.9064 - accuracy: 0.6277 - val_loss: 0.7830 - val_accuracy: 0.6836\n",
      "Epoch 11/30\n",
      "29717/29717 [==============================] - 34s 1ms/step - loss: 0.9011 - accuracy: 0.6305 - val_loss: 0.7734 - val_accuracy: 0.6859\n",
      "Epoch 12/30\n",
      "29717/29717 [==============================] - 33s 1ms/step - loss: 0.8940 - accuracy: 0.6341 - val_loss: 0.7621 - val_accuracy: 0.6925\n",
      "Epoch 13/30\n",
      "29717/29717 [==============================] - 32s 1ms/step - loss: 0.8853 - accuracy: 0.6390 - val_loss: 0.7489 - val_accuracy: 0.6999\n",
      "Epoch 14/30\n",
      "29717/29717 [==============================] - 32s 1ms/step - loss: 0.8782 - accuracy: 0.6429 - val_loss: 0.7369 - val_accuracy: 0.7034\n",
      "Epoch 15/30\n",
      "29717/29717 [==============================] - 32s 1ms/step - loss: 0.8704 - accuracy: 0.6471 - val_loss: 0.7288 - val_accuracy: 0.7075\n",
      "Epoch 16/30\n",
      "29717/29717 [==============================] - 32s 1ms/step - loss: 0.8654 - accuracy: 0.6501 - val_loss: 0.7188 - val_accuracy: 0.7140\n",
      "Epoch 17/30\n",
      "29717/29717 [==============================] - 33s 1ms/step - loss: 0.8601 - accuracy: 0.6524 - val_loss: 0.7164 - val_accuracy: 0.7157\n",
      "Epoch 18/30\n",
      "29717/29717 [==============================] - 34s 1ms/step - loss: 0.8554 - accuracy: 0.6546 - val_loss: 0.7073 - val_accuracy: 0.7225\n",
      "Epoch 19/30\n",
      "29717/29717 [==============================] - 37s 1ms/step - loss: 0.8512 - accuracy: 0.6573 - val_loss: 0.6989 - val_accuracy: 0.7240\n",
      "Epoch 20/30\n",
      "29717/29717 [==============================] - 37s 1ms/step - loss: 0.8474 - accuracy: 0.6587 - val_loss: 0.6929 - val_accuracy: 0.7284\n",
      "Epoch 21/30\n",
      "29717/29717 [==============================] - 36s 1ms/step - loss: 0.8433 - accuracy: 0.6614 - val_loss: 0.6860 - val_accuracy: 0.7319\n",
      "Epoch 22/30\n",
      "29717/29717 [==============================] - 36s 1ms/step - loss: 0.8403 - accuracy: 0.6629 - val_loss: 0.6844 - val_accuracy: 0.7314\n",
      "Epoch 23/30\n",
      "29717/29717 [==============================] - 32s 1ms/step - loss: 0.8382 - accuracy: 0.6642 - val_loss: 0.6790 - val_accuracy: 0.7332\n",
      "Epoch 24/30\n",
      "29717/29717 [==============================] - 37s 1ms/step - loss: 0.8350 - accuracy: 0.6660 - val_loss: 0.6727 - val_accuracy: 0.7376\n",
      "Epoch 25/30\n",
      "29717/29717 [==============================] - 63s 2ms/step - loss: 0.8319 - accuracy: 0.6670 - val_loss: 0.6680 - val_accuracy: 0.7399\n",
      "Epoch 26/30\n",
      "29717/29717 [==============================] - 59s 2ms/step - loss: 0.8293 - accuracy: 0.6683 - val_loss: 0.6620 - val_accuracy: 0.7421\n",
      "Epoch 27/30\n",
      "29717/29717 [==============================] - 41s 1ms/step - loss: 0.8270 - accuracy: 0.6699 - val_loss: 0.6601 - val_accuracy: 0.7453\n",
      "Epoch 28/30\n",
      "29717/29717 [==============================] - 35s 1ms/step - loss: 0.8242 - accuracy: 0.6713 - val_loss: 0.6578 - val_accuracy: 0.7460\n",
      "Epoch 29/30\n",
      "29717/29717 [==============================] - 34s 1ms/step - loss: 0.8221 - accuracy: 0.6724 - val_loss: 0.6532 - val_accuracy: 0.7475\n",
      "Epoch 30/30\n",
      "29717/29717 [==============================] - 31s 1ms/step - loss: 0.8202 - accuracy: 0.6734 - val_loss: 0.6516 - val_accuracy: 0.7475\n"
     ]
    }
   ],
   "source": [
    "history = model.fit(X_train, y_train, epochs=30, validation_data=(X_test, y_test), batch_size=32)"
   ],
   "metadata": {
    "collapsed": false,
    "ExecuteTime": {
     "end_time": "2024-08-05T03:41:56.894108Z",
     "start_time": "2024-08-05T03:23:35.842471Z"
    }
   },
   "id": "9c83492d48d73b94",
   "execution_count": 10
  },
  {
   "cell_type": "code",
   "outputs": [
    {
     "name": "stdout",
     "output_type": "stream",
     "text": [
      "7430/7430 [==============================] - 3s 373us/step - loss: 0.6516 - accuracy: 0.7475\n"
     ]
    }
   ],
   "source": [
    "performance = model.evaluate(X_test, y_test)"
   ],
   "metadata": {
    "collapsed": false,
    "ExecuteTime": {
     "end_time": "2024-08-05T03:41:59.739233Z",
     "start_time": "2024-08-05T03:41:56.903249Z"
    }
   },
   "id": "d7f0c7032fbd9505",
   "execution_count": 11
  },
  {
   "cell_type": "code",
   "outputs": [
    {
     "name": "stdout",
     "output_type": "stream",
     "text": [
      "7430/7430 [==============================] - 3s 352us/step\n"
     ]
    }
   ],
   "source": [
    "predictions = model.predict(X_test)"
   ],
   "metadata": {
    "collapsed": false,
    "ExecuteTime": {
     "end_time": "2024-08-05T03:42:03.768749Z",
     "start_time": "2024-08-05T03:41:59.739909Z"
    }
   },
   "id": "accd302e7411ab5f",
   "execution_count": 12
  }
 ],
 "metadata": {
  "kernelspec": {
   "display_name": "Python 3",
   "language": "python",
   "name": "python3"
  },
  "language_info": {
   "codemirror_mode": {
    "name": "ipython",
    "version": 2
   },
   "file_extension": ".py",
   "mimetype": "text/x-python",
   "name": "python",
   "nbconvert_exporter": "python",
   "pygments_lexer": "ipython2",
   "version": "2.7.6"
  }
 },
 "nbformat": 4,
 "nbformat_minor": 5
}
