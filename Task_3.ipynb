{
 "cells": [
  {
   "cell_type": "code",
   "execution_count": 1,
   "id": "initial_id",
   "metadata": {
    "collapsed": true,
    "ExecuteTime": {
     "end_time": "2024-08-05T05:51:54.121854Z",
     "start_time": "2024-08-05T05:51:51.391669Z"
    }
   },
   "outputs": [],
   "source": [
    "from tensorflow.keras.models import load_model\n",
    "import numpy as np\n",
    "from sklearn.preprocessing import OneHotEncoder, LabelEncoder"
   ]
  },
  {
   "cell_type": "markdown",
   "source": [
    "Model load and prediction"
   ],
   "metadata": {
    "collapsed": false
   },
   "id": "e02ef5d0f1f69328"
  },
  {
   "cell_type": "code",
   "outputs": [],
   "source": [
    "model = load_model('LSTM_euler_temporal_dynamics')"
   ],
   "metadata": {
    "collapsed": false,
    "ExecuteTime": {
     "end_time": "2024-08-05T05:51:57.729452Z",
     "start_time": "2024-08-05T05:51:54.122784Z"
    }
   },
   "id": "e149578da295adbf",
   "execution_count": 2
  },
  {
   "cell_type": "code",
   "outputs": [],
   "source": [
    "sample_input_sequence = np.array([[-9.28317111e-01, -9.26705018e-01, -1.33821092e+00,\n",
    "         1.59151996e-01, -9.80534562e-01,  1.13180968e+00,\n",
    "        -8.14734264e-01, -1.29092260e-02, -1.01997518e+00,\n",
    "         2.10817179e+00,  2.12091685e-02, -1.51470508e-03,\n",
    "        -4.27905404e-02,  1.15207013e+00,  1.26888526e+00,\n",
    "        -6.85882976e-01, -1.34530801e-01, -2.87846841e-02,\n",
    "        -8.30967007e-01,  2.60652480e+00, -2.04741732e-01,\n",
    "        -1.45619779e-03]]) # 1 rep of certain exercise"
   ],
   "metadata": {
    "collapsed": false,
    "ExecuteTime": {
     "end_time": "2024-08-05T05:51:57.732019Z",
     "start_time": "2024-08-05T05:51:57.730053Z"
    }
   },
   "id": "ed26eac3276b59c4",
   "execution_count": 3
  },
  {
   "cell_type": "code",
   "outputs": [],
   "source": [
    "sample_noisy_sequence = sample_input_sequence.copy()\n",
    "\n",
    "# Adjustments\n",
    "for i, value in enumerate(sample_noisy_sequence[0]):\n",
    "    if i in {2, 4, 5, 6}:  # angle indices\n",
    "        # Shift by a random angle and wrap around using np.clip to ensure the value stays within -pi to pi\n",
    "        new_value = value + np.random.uniform(0.5, -1.0)\n",
    "        sample_noisy_sequence[0][i] = np.clip(new_value, -np.pi, np.pi)\n",
    "    else:\n",
    "        # Apply random noise\n",
    "        noise = np.random.normal(0, 0.1)\n",
    "        sample_noisy_sequence[0][i] = value + noise # Adjust the scale of noise as needed"
   ],
   "metadata": {
    "collapsed": false,
    "ExecuteTime": {
     "end_time": "2024-08-05T05:52:24.386830Z",
     "start_time": "2024-08-05T05:52:24.367605Z"
    }
   },
   "id": "e75e72a1fe1a5876",
   "execution_count": 13
  },
  {
   "cell_type": "code",
   "outputs": [],
   "source": [
    "sample_sequence = np.expand_dims(sample_input_sequence, axis=1)"
   ],
   "metadata": {
    "collapsed": false,
    "ExecuteTime": {
     "end_time": "2024-08-05T05:52:25.384990Z",
     "start_time": "2024-08-05T05:52:25.380144Z"
    }
   },
   "id": "5853927549887d13",
   "execution_count": 14
  },
  {
   "cell_type": "code",
   "outputs": [],
   "source": [
    "sample_noisy_sequence = np.expand_dims(sample_noisy_sequence, axis=1)"
   ],
   "metadata": {
    "collapsed": false,
    "ExecuteTime": {
     "end_time": "2024-08-05T05:52:25.516989Z",
     "start_time": "2024-08-05T05:52:25.514933Z"
    }
   },
   "id": "f06f6532c427b1f3",
   "execution_count": 15
  },
  {
   "cell_type": "code",
   "outputs": [
    {
     "name": "stdout",
     "output_type": "stream",
     "text": [
      "1/1 [==============================] - 0s 9ms/step\n"
     ]
    }
   ],
   "source": [
    "predictions = model.predict(sample_sequence)"
   ],
   "metadata": {
    "collapsed": false,
    "ExecuteTime": {
     "end_time": "2024-08-05T05:52:26.407961Z",
     "start_time": "2024-08-05T05:52:26.348141Z"
    }
   },
   "id": "871e3ed2b167f9c4",
   "execution_count": 16
  },
  {
   "cell_type": "code",
   "outputs": [],
   "source": [
    "categorical_features = ['armraise', 'tricepkickback', 'overheadpress', 'bicepcurl',\n",
    "                        'hammercurl', 'burpee', 'vup', 'crunch', 'pushup', 'birddog'] \n",
    "categories_array = np.array(categorical_features).reshape(-1, 1)\n",
    "encoder = OneHotEncoder(sparse_output=False)\n",
    "target_encoded = encoder.fit_transform(categories_array)"
   ],
   "metadata": {
    "collapsed": false,
    "ExecuteTime": {
     "end_time": "2024-08-05T05:52:26.647807Z",
     "start_time": "2024-08-05T05:52:26.642603Z"
    }
   },
   "id": "661af102a9f77742",
   "execution_count": 17
  },
  {
   "cell_type": "code",
   "outputs": [
    {
     "name": "stdout",
     "output_type": "stream",
     "text": [
      "[2]\n"
     ]
    }
   ],
   "source": [
    "predicted_indices = np.argmax(predictions, axis=1)\n",
    "print(predicted_indices)\n",
    "predicted_one_hot = np.zeros((predicted_indices.size, predictions.shape[1]))\n",
    "predicted_one_hot[np.arange(predicted_indices.size), predicted_indices] = 1\n",
    "\n",
    "predicted_labels = encoder.inverse_transform(predicted_one_hot)"
   ],
   "metadata": {
    "collapsed": false,
    "ExecuteTime": {
     "end_time": "2024-08-05T05:52:27.019243Z",
     "start_time": "2024-08-05T05:52:27.014278Z"
    }
   },
   "id": "3c3a36ceca610517",
   "execution_count": 18
  },
  {
   "cell_type": "code",
   "outputs": [
    {
     "data": {
      "text/plain": "array([['birddog']], dtype='<U14')"
     },
     "execution_count": 19,
     "metadata": {},
     "output_type": "execute_result"
    }
   ],
   "source": [
    "predicted_labels"
   ],
   "metadata": {
    "collapsed": false,
    "ExecuteTime": {
     "end_time": "2024-08-05T05:52:27.403473Z",
     "start_time": "2024-08-05T05:52:27.400326Z"
    }
   },
   "id": "dc18a85ffe0f9e59",
   "execution_count": 19
  },
  {
   "cell_type": "markdown",
   "source": [
    "Task -3 : Noisy Data Handling (basic)"
   ],
   "metadata": {
    "collapsed": false
   },
   "id": "564869de28d9a9a"
  },
  {
   "cell_type": "code",
   "outputs": [],
   "source": [
    "def classify_with_threshold(predictions, encoder, threshold=0.7):\n",
    "    # Identify max probabilities and their corresponding indices\n",
    "    max_probs = np.max(predictions, axis=1)\n",
    "    predicted_labels = np.argmax(predictions, axis=1)\n",
    "    print(\"Max probabilities:\", max_probs)\n",
    "    print(\"Predicted labels before thresholding:\", predicted_labels)\n",
    "\n",
    "    # Mask for where max probabilities are below the threshold\n",
    "    other_mask = max_probs < threshold\n",
    "    print(\"Indices below threshold:\", np.where(other_mask)[0])  # Print indices below threshold for debugging\n",
    "\n",
    "    # Create one-hot encoding for predicted labels\n",
    "    num_categories = len(encoder.categories_[0])\n",
    "    predicted_one_hot = np.zeros((predicted_labels.size, num_categories))  # No extra column for 'other'\n",
    "    predicted_one_hot[np.arange(predicted_labels.size), predicted_labels] = 1\n",
    "\n",
    "    # Decode labels back from one-hot encoding\n",
    "    decoded_labels = encoder.inverse_transform(predicted_one_hot)\n",
    "\n",
    "    # Assign 'other' to those indices where max_probs < threshold\n",
    "    decoded_labels[other_mask] = 'other'\n",
    "    return decoded_labels"
   ],
   "metadata": {
    "collapsed": false,
    "ExecuteTime": {
     "end_time": "2024-08-05T05:57:15.725268Z",
     "start_time": "2024-08-05T05:57:15.717265Z"
    }
   },
   "id": "be46018a8819e252",
   "execution_count": 34
  },
  {
   "cell_type": "code",
   "outputs": [
    {
     "name": "stdout",
     "output_type": "stream",
     "text": [
      "1/1 [==============================] - 0s 10ms/step\n",
      "Raw model predictions: [[7.9563833e-06 8.8968220e-05 5.0660479e-01 4.2282179e-01 5.5222819e-07\n",
      "  7.0224449e-02 2.1924463e-04 3.2012067e-05 2.8831846e-07 9.0518171e-08]]\n",
      "Max probabilities: [0.5066048]\n",
      "Predicted labels before thresholding: [2]\n",
      "Indices below threshold: [0]\n",
      "Final predictions with threshold: [['other']]\n"
     ]
    }
   ],
   "source": [
    "predictions = model.predict(sample_noisy_sequence)\n",
    "print(\"Raw model predictions:\", predictions)\n",
    "final_predictions = classify_with_threshold(predictions, encoder, threshold=0.7)\n",
    "print(\"Final predictions with threshold:\", final_predictions)"
   ],
   "metadata": {
    "collapsed": false,
    "ExecuteTime": {
     "end_time": "2024-08-05T05:57:16.063044Z",
     "start_time": "2024-08-05T05:57:16.003080Z"
    }
   },
   "id": "59e1ef8f92576e14",
   "execution_count": 35
  }
 ],
 "metadata": {
  "kernelspec": {
   "display_name": "Python 3",
   "language": "python",
   "name": "python3"
  },
  "language_info": {
   "codemirror_mode": {
    "name": "ipython",
    "version": 2
   },
   "file_extension": ".py",
   "mimetype": "text/x-python",
   "name": "python",
   "nbconvert_exporter": "python",
   "pygments_lexer": "ipython2",
   "version": "2.7.6"
  }
 },
 "nbformat": 4,
 "nbformat_minor": 5
}
